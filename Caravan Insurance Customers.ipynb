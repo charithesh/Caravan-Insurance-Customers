{
 "cells": [
  {
   "cell_type": "markdown",
   "metadata": {},
   "source": [
    "## Choosing and Explaining Likely Caravan Insurance Customers\n",
    "Programming Language: R 3.5.1 in Jupyter Notebook\n",
    "\n",
    "R Libraries used:\n",
    "- ggplots\n",
    "- MASS \n",
    "- leaps\n",
    "- olsrr\n",
    "- lattice\n",
    "- glmnet\n"
   ]
  },
  {
   "cell_type": "markdown",
   "metadata": {},
   "source": [
    "## Introduction\n",
    "\n",
    "Data analysis is a common practice that is being followed widely these days on the available amount of data that is being present everywhere. For this assessment we are provided with data related to car insurance. The main focus of the task would be analysing the provided data and provide insights that would be helpful. To be precise we need to explore and analyse the data to come with a marketing strategy that would focus on a targeted set of customers who would buy a caravan insurance policy. But the analysis results are to be explained in a format which can be understood by people who doesn't have a technical background. When the results are presented in layman terms, the marketing department could come with better strategies.\n",
    "\n",
    "The training data set consists information of 5822 customers where the purchase of caravan insurance policy is indicated, and the test data has 4000 customers where the purchase of caravan insurance policy is not provided. But the values for these 4000 customers are given in a different text file. We need to come with a set of 800 customers from the test data who has a high probability of purchasing a caravan policy. In order to predict the best set of 800 customers we need to build three different types of models, compare which model is giving us a good score. The procedure for variable selection, model building, model comparison and selecting final the set of customers is explained in the following sections.\n",
    "\n",
    "The first 43 columns of the dataset represents the socio demographic attributes of the customer. These socio demographic are the same for all the customers who belong to the same zip code. The next 42 columns are attributes related to ownership of products by the customer. The final column represents the purchase of caravan policy by the customer. 0 and 1 are the only value possible for the last column.\n",
    "\n",
    "Meta data is available at http://liacs.leidenuniv.nl/~puttenpwhvander/library/cc2000/data.html"
   ]
  },
  {
   "cell_type": "code",
   "execution_count": 120,
   "metadata": {
    "collapsed": true
   },
   "outputs": [],
   "source": [
    "#Installing packages\n",
    "#require(\"leaps\")\n",
    "#require(\"ggplot2\")\n",
    "#require(\"olsrr\")\n",
    "#require(\"MASS\")\n",
    "#Require(\"lattice\")\n",
    "\n",
    "#Required libraries\n",
    "library(leaps)   #For finding subset of variables\n",
    "library(ggplot2)  #Plotting purpose\n",
    "library(olsrr)   #Finding the VIF and Tolerance\n",
    "library(MASS)    #Package for stepwise selection\n",
    "library(lattice)  #For plotting purpose\n",
    "library(glmnet)  #Used for cross validation"
   ]
  },
  {
   "cell_type": "markdown",
   "metadata": {},
   "source": [
    "### Loading the train, test and test labels data\n",
    "\n",
    "All the data that is provided to us are in txt files which are read into R using read.table function. The columns are provided as V1, V2 and so on. These are not the actual column names of the data. Meta data is available at http://liacs.leidenuniv.nl/~puttenpwhvander/library/cc2000/data.html"
   ]
  },
  {
   "cell_type": "code",
   "execution_count": 67,
   "metadata": {},
   "outputs": [
    {
     "data": {
      "text/html": [
       "<table>\n",
       "<thead><tr><th scope=col>V1</th><th scope=col>V2</th><th scope=col>V3</th><th scope=col>V4</th><th scope=col>V5</th><th scope=col>V6</th><th scope=col>V7</th><th scope=col>V8</th><th scope=col>V9</th><th scope=col>V10</th><th scope=col>...</th><th scope=col>V77</th><th scope=col>V78</th><th scope=col>V79</th><th scope=col>V80</th><th scope=col>V81</th><th scope=col>V82</th><th scope=col>V83</th><th scope=col>V84</th><th scope=col>V85</th><th scope=col>V86</th></tr></thead>\n",
       "<tbody>\n",
       "\t<tr><td>33 </td><td>1  </td><td>3  </td><td>2  </td><td> 8 </td><td>0  </td><td>5  </td><td>1  </td><td>3  </td><td>7  </td><td>...</td><td>0  </td><td>0  </td><td>0  </td><td>1  </td><td>0  </td><td>0  </td><td>0  </td><td>0  </td><td>0  </td><td>0  </td></tr>\n",
       "\t<tr><td>37 </td><td>1  </td><td>2  </td><td>2  </td><td> 8 </td><td>1  </td><td>4  </td><td>1  </td><td>4  </td><td>6  </td><td>...</td><td>0  </td><td>0  </td><td>0  </td><td>1  </td><td>0  </td><td>0  </td><td>0  </td><td>0  </td><td>0  </td><td>0  </td></tr>\n",
       "\t<tr><td>37 </td><td>1  </td><td>2  </td><td>2  </td><td> 8 </td><td>0  </td><td>4  </td><td>2  </td><td>4  </td><td>3  </td><td>...</td><td>0  </td><td>0  </td><td>0  </td><td>1  </td><td>0  </td><td>0  </td><td>0  </td><td>0  </td><td>0  </td><td>0  </td></tr>\n",
       "\t<tr><td> 9 </td><td>1  </td><td>3  </td><td>3  </td><td> 3 </td><td>2  </td><td>3  </td><td>2  </td><td>4  </td><td>5  </td><td>...</td><td>0  </td><td>0  </td><td>0  </td><td>1  </td><td>0  </td><td>0  </td><td>0  </td><td>0  </td><td>0  </td><td>0  </td></tr>\n",
       "\t<tr><td>40 </td><td>1  </td><td>4  </td><td>2  </td><td>10 </td><td>1  </td><td>4  </td><td>1  </td><td>4  </td><td>7  </td><td>...</td><td>0  </td><td>0  </td><td>0  </td><td>1  </td><td>0  </td><td>0  </td><td>0  </td><td>0  </td><td>0  </td><td>0  </td></tr>\n",
       "\t<tr><td>23 </td><td>1  </td><td>2  </td><td>1  </td><td> 5 </td><td>0  </td><td>5  </td><td>0  </td><td>5  </td><td>0  </td><td>...</td><td>0  </td><td>0  </td><td>0  </td><td>0  </td><td>0  </td><td>0  </td><td>0  </td><td>0  </td><td>0  </td><td>0  </td></tr>\n",
       "</tbody>\n",
       "</table>\n"
      ],
      "text/latex": [
       "\\begin{tabular}{r|llllllllllllllllllllllllllllllllllllllllllllllllllllllllllllllllllllllllllllllllllllll}\n",
       " V1 & V2 & V3 & V4 & V5 & V6 & V7 & V8 & V9 & V10 & ... & V77 & V78 & V79 & V80 & V81 & V82 & V83 & V84 & V85 & V86\\\\\n",
       "\\hline\n",
       "\t 33  & 1   & 3   & 2   &  8  & 0   & 5   & 1   & 3   & 7   & ... & 0   & 0   & 0   & 1   & 0   & 0   & 0   & 0   & 0   & 0  \\\\\n",
       "\t 37  & 1   & 2   & 2   &  8  & 1   & 4   & 1   & 4   & 6   & ... & 0   & 0   & 0   & 1   & 0   & 0   & 0   & 0   & 0   & 0  \\\\\n",
       "\t 37  & 1   & 2   & 2   &  8  & 0   & 4   & 2   & 4   & 3   & ... & 0   & 0   & 0   & 1   & 0   & 0   & 0   & 0   & 0   & 0  \\\\\n",
       "\t  9  & 1   & 3   & 3   &  3  & 2   & 3   & 2   & 4   & 5   & ... & 0   & 0   & 0   & 1   & 0   & 0   & 0   & 0   & 0   & 0  \\\\\n",
       "\t 40  & 1   & 4   & 2   & 10  & 1   & 4   & 1   & 4   & 7   & ... & 0   & 0   & 0   & 1   & 0   & 0   & 0   & 0   & 0   & 0  \\\\\n",
       "\t 23  & 1   & 2   & 1   &  5  & 0   & 5   & 0   & 5   & 0   & ... & 0   & 0   & 0   & 0   & 0   & 0   & 0   & 0   & 0   & 0  \\\\\n",
       "\\end{tabular}\n"
      ],
      "text/markdown": [
       "\n",
       "V1 | V2 | V3 | V4 | V5 | V6 | V7 | V8 | V9 | V10 | ... | V77 | V78 | V79 | V80 | V81 | V82 | V83 | V84 | V85 | V86 | \n",
       "|---|---|---|---|---|---|\n",
       "| 33  | 1   | 3   | 2   |  8  | 0   | 5   | 1   | 3   | 7   | ... | 0   | 0   | 0   | 1   | 0   | 0   | 0   | 0   | 0   | 0   | \n",
       "| 37  | 1   | 2   | 2   |  8  | 1   | 4   | 1   | 4   | 6   | ... | 0   | 0   | 0   | 1   | 0   | 0   | 0   | 0   | 0   | 0   | \n",
       "| 37  | 1   | 2   | 2   |  8  | 0   | 4   | 2   | 4   | 3   | ... | 0   | 0   | 0   | 1   | 0   | 0   | 0   | 0   | 0   | 0   | \n",
       "|  9  | 1   | 3   | 3   |  3  | 2   | 3   | 2   | 4   | 5   | ... | 0   | 0   | 0   | 1   | 0   | 0   | 0   | 0   | 0   | 0   | \n",
       "| 40  | 1   | 4   | 2   | 10  | 1   | 4   | 1   | 4   | 7   | ... | 0   | 0   | 0   | 1   | 0   | 0   | 0   | 0   | 0   | 0   | \n",
       "| 23  | 1   | 2   | 1   |  5  | 0   | 5   | 0   | 5   | 0   | ... | 0   | 0   | 0   | 0   | 0   | 0   | 0   | 0   | 0   | 0   | \n",
       "\n",
       "\n"
      ],
      "text/plain": [
       "  V1 V2 V3 V4 V5 V6 V7 V8 V9 V10 ... V77 V78 V79 V80 V81 V82 V83 V84 V85 V86\n",
       "1 33 1  3  2   8 0  5  1  3  7   ... 0   0   0   1   0   0   0   0   0   0  \n",
       "2 37 1  2  2   8 1  4  1  4  6   ... 0   0   0   1   0   0   0   0   0   0  \n",
       "3 37 1  2  2   8 0  4  2  4  3   ... 0   0   0   1   0   0   0   0   0   0  \n",
       "4  9 1  3  3   3 2  3  2  4  5   ... 0   0   0   1   0   0   0   0   0   0  \n",
       "5 40 1  4  2  10 1  4  1  4  7   ... 0   0   0   1   0   0   0   0   0   0  \n",
       "6 23 1  2  1   5 0  5  0  5  0   ... 0   0   0   0   0   0   0   0   0   0  "
      ]
     },
     "metadata": {},
     "output_type": "display_data"
    },
    {
     "data": {
      "text/html": [
       "<table>\n",
       "<thead><tr><th></th><th scope=col>V1</th><th scope=col>V2</th><th scope=col>V3</th><th scope=col>V4</th><th scope=col>V5</th><th scope=col>V6</th><th scope=col>V7</th><th scope=col>V8</th><th scope=col>V9</th><th scope=col>V10</th><th scope=col>...</th><th scope=col>V77</th><th scope=col>V78</th><th scope=col>V79</th><th scope=col>V80</th><th scope=col>V81</th><th scope=col>V82</th><th scope=col>V83</th><th scope=col>V84</th><th scope=col>V85</th><th scope=col>V86</th></tr></thead>\n",
       "<tbody>\n",
       "\t<tr><th scope=row>5817</th><td> 3 </td><td>1  </td><td>2  </td><td>3  </td><td>1  </td><td>0  </td><td>6  </td><td>0  </td><td>3  </td><td>6  </td><td>...</td><td>0  </td><td>0  </td><td>0  </td><td>0  </td><td>0  </td><td>0  </td><td>0  </td><td>0  </td><td>0  </td><td>0  </td></tr>\n",
       "\t<tr><th scope=row>5818</th><td>36 </td><td>1  </td><td>1  </td><td>2  </td><td>8  </td><td>0  </td><td>6  </td><td>1  </td><td>2  </td><td>1  </td><td>...</td><td>0  </td><td>0  </td><td>0  </td><td>1  </td><td>0  </td><td>0  </td><td>0  </td><td>0  </td><td>0  </td><td>0  </td></tr>\n",
       "\t<tr><th scope=row>5819</th><td>35 </td><td>1  </td><td>4  </td><td>4  </td><td>8  </td><td>1  </td><td>4  </td><td>1  </td><td>4  </td><td>6  </td><td>...</td><td>0  </td><td>0  </td><td>0  </td><td>1  </td><td>0  </td><td>0  </td><td>0  </td><td>0  </td><td>0  </td><td>0  </td></tr>\n",
       "\t<tr><th scope=row>5820</th><td>33 </td><td>1  </td><td>3  </td><td>4  </td><td>8  </td><td>0  </td><td>6  </td><td>0  </td><td>3  </td><td>5  </td><td>...</td><td>0  </td><td>0  </td><td>0  </td><td>1  </td><td>0  </td><td>0  </td><td>0  </td><td>0  </td><td>0  </td><td>1  </td></tr>\n",
       "\t<tr><th scope=row>5821</th><td>34 </td><td>1  </td><td>3  </td><td>2  </td><td>8  </td><td>0  </td><td>7  </td><td>0  </td><td>2  </td><td>7  </td><td>...</td><td>0  </td><td>0  </td><td>0  </td><td>0  </td><td>0  </td><td>0  </td><td>0  </td><td>0  </td><td>0  </td><td>0  </td></tr>\n",
       "\t<tr><th scope=row>5822</th><td>33 </td><td>1  </td><td>3  </td><td>3  </td><td>8  </td><td>0  </td><td>6  </td><td>1  </td><td>2  </td><td>7  </td><td>...</td><td>0  </td><td>0  </td><td>0  </td><td>0  </td><td>0  </td><td>0  </td><td>0  </td><td>0  </td><td>0  </td><td>0  </td></tr>\n",
       "</tbody>\n",
       "</table>\n"
      ],
      "text/latex": [
       "\\begin{tabular}{r|llllllllllllllllllllllllllllllllllllllllllllllllllllllllllllllllllllllllllllllllllllll}\n",
       "  & V1 & V2 & V3 & V4 & V5 & V6 & V7 & V8 & V9 & V10 & ... & V77 & V78 & V79 & V80 & V81 & V82 & V83 & V84 & V85 & V86\\\\\n",
       "\\hline\n",
       "\t5817 &  3  & 1   & 2   & 3   & 1   & 0   & 6   & 0   & 3   & 6   & ... & 0   & 0   & 0   & 0   & 0   & 0   & 0   & 0   & 0   & 0  \\\\\n",
       "\t5818 & 36  & 1   & 1   & 2   & 8   & 0   & 6   & 1   & 2   & 1   & ... & 0   & 0   & 0   & 1   & 0   & 0   & 0   & 0   & 0   & 0  \\\\\n",
       "\t5819 & 35  & 1   & 4   & 4   & 8   & 1   & 4   & 1   & 4   & 6   & ... & 0   & 0   & 0   & 1   & 0   & 0   & 0   & 0   & 0   & 0  \\\\\n",
       "\t5820 & 33  & 1   & 3   & 4   & 8   & 0   & 6   & 0   & 3   & 5   & ... & 0   & 0   & 0   & 1   & 0   & 0   & 0   & 0   & 0   & 1  \\\\\n",
       "\t5821 & 34  & 1   & 3   & 2   & 8   & 0   & 7   & 0   & 2   & 7   & ... & 0   & 0   & 0   & 0   & 0   & 0   & 0   & 0   & 0   & 0  \\\\\n",
       "\t5822 & 33  & 1   & 3   & 3   & 8   & 0   & 6   & 1   & 2   & 7   & ... & 0   & 0   & 0   & 0   & 0   & 0   & 0   & 0   & 0   & 0  \\\\\n",
       "\\end{tabular}\n"
      ],
      "text/markdown": [
       "\n",
       "| <!--/--> | V1 | V2 | V3 | V4 | V5 | V6 | V7 | V8 | V9 | V10 | ... | V77 | V78 | V79 | V80 | V81 | V82 | V83 | V84 | V85 | V86 | \n",
       "|---|---|---|---|---|---|\n",
       "| 5817 |  3  | 1   | 2   | 3   | 1   | 0   | 6   | 0   | 3   | 6   | ... | 0   | 0   | 0   | 0   | 0   | 0   | 0   | 0   | 0   | 0   | \n",
       "| 5818 | 36  | 1   | 1   | 2   | 8   | 0   | 6   | 1   | 2   | 1   | ... | 0   | 0   | 0   | 1   | 0   | 0   | 0   | 0   | 0   | 0   | \n",
       "| 5819 | 35  | 1   | 4   | 4   | 8   | 1   | 4   | 1   | 4   | 6   | ... | 0   | 0   | 0   | 1   | 0   | 0   | 0   | 0   | 0   | 0   | \n",
       "| 5820 | 33  | 1   | 3   | 4   | 8   | 0   | 6   | 0   | 3   | 5   | ... | 0   | 0   | 0   | 1   | 0   | 0   | 0   | 0   | 0   | 1   | \n",
       "| 5821 | 34  | 1   | 3   | 2   | 8   | 0   | 7   | 0   | 2   | 7   | ... | 0   | 0   | 0   | 0   | 0   | 0   | 0   | 0   | 0   | 0   | \n",
       "| 5822 | 33  | 1   | 3   | 3   | 8   | 0   | 6   | 1   | 2   | 7   | ... | 0   | 0   | 0   | 0   | 0   | 0   | 0   | 0   | 0   | 0   | \n",
       "\n",
       "\n"
      ],
      "text/plain": [
       "     V1 V2 V3 V4 V5 V6 V7 V8 V9 V10 ... V77 V78 V79 V80 V81 V82 V83 V84 V85 V86\n",
       "5817  3 1  2  3  1  0  6  0  3  6   ... 0   0   0   0   0   0   0   0   0   0  \n",
       "5818 36 1  1  2  8  0  6  1  2  1   ... 0   0   0   1   0   0   0   0   0   0  \n",
       "5819 35 1  4  4  8  1  4  1  4  6   ... 0   0   0   1   0   0   0   0   0   0  \n",
       "5820 33 1  3  4  8  0  6  0  3  5   ... 0   0   0   1   0   0   0   0   0   1  \n",
       "5821 34 1  3  2  8  0  7  0  2  7   ... 0   0   0   0   0   0   0   0   0   0  \n",
       "5822 33 1  3  3  8  0  6  1  2  7   ... 0   0   0   0   0   0   0   0   0   0  "
      ]
     },
     "metadata": {},
     "output_type": "display_data"
    }
   ],
   "source": [
    "#Reading the train data and test data\n",
    "trainData = read.table(\"train.txt\", header = FALSE)\n",
    "testData =  read.table(\"test.txt\", header = FALSE)\n",
    "head(trainData)\n",
    "tail(trainData)"
   ]
  },
  {
   "cell_type": "markdown",
   "metadata": {},
   "source": [
    "## Data Exploration\n",
    "\n",
    "### Statistics and Summary of data\n",
    "\n",
    "Once the required datasets are loaded into R, the basic information regarding the data can be printed in order to get the structure and the types of variables. Apart from this we can also understand what are the minimum and maximum values for each column. The number of unique values for each column is also printed in the below cell. This would be useful to know what is the range for each variable."
   ]
  },
  {
   "cell_type": "code",
   "execution_count": 68,
   "metadata": {},
   "outputs": [
    {
     "data": {
      "text/html": [
       "<dl class=dl-horizontal>\n",
       "\t<dt>V1</dt>\n",
       "\t\t<dd>'integer'</dd>\n",
       "\t<dt>V2</dt>\n",
       "\t\t<dd>'integer'</dd>\n",
       "\t<dt>V3</dt>\n",
       "\t\t<dd>'integer'</dd>\n",
       "\t<dt>V4</dt>\n",
       "\t\t<dd>'integer'</dd>\n",
       "\t<dt>V5</dt>\n",
       "\t\t<dd>'integer'</dd>\n",
       "\t<dt>V6</dt>\n",
       "\t\t<dd>'integer'</dd>\n",
       "\t<dt>V7</dt>\n",
       "\t\t<dd>'integer'</dd>\n",
       "\t<dt>V8</dt>\n",
       "\t\t<dd>'integer'</dd>\n",
       "\t<dt>V9</dt>\n",
       "\t\t<dd>'integer'</dd>\n",
       "\t<dt>V10</dt>\n",
       "\t\t<dd>'integer'</dd>\n",
       "\t<dt>V11</dt>\n",
       "\t\t<dd>'integer'</dd>\n",
       "\t<dt>V12</dt>\n",
       "\t\t<dd>'integer'</dd>\n",
       "\t<dt>V13</dt>\n",
       "\t\t<dd>'integer'</dd>\n",
       "\t<dt>V14</dt>\n",
       "\t\t<dd>'integer'</dd>\n",
       "\t<dt>V15</dt>\n",
       "\t\t<dd>'integer'</dd>\n",
       "\t<dt>V16</dt>\n",
       "\t\t<dd>'integer'</dd>\n",
       "\t<dt>V17</dt>\n",
       "\t\t<dd>'integer'</dd>\n",
       "\t<dt>V18</dt>\n",
       "\t\t<dd>'integer'</dd>\n",
       "\t<dt>V19</dt>\n",
       "\t\t<dd>'integer'</dd>\n",
       "\t<dt>V20</dt>\n",
       "\t\t<dd>'integer'</dd>\n",
       "\t<dt>V21</dt>\n",
       "\t\t<dd>'integer'</dd>\n",
       "\t<dt>V22</dt>\n",
       "\t\t<dd>'integer'</dd>\n",
       "\t<dt>V23</dt>\n",
       "\t\t<dd>'integer'</dd>\n",
       "\t<dt>V24</dt>\n",
       "\t\t<dd>'integer'</dd>\n",
       "\t<dt>V25</dt>\n",
       "\t\t<dd>'integer'</dd>\n",
       "\t<dt>V26</dt>\n",
       "\t\t<dd>'integer'</dd>\n",
       "\t<dt>V27</dt>\n",
       "\t\t<dd>'integer'</dd>\n",
       "\t<dt>V28</dt>\n",
       "\t\t<dd>'integer'</dd>\n",
       "\t<dt>V29</dt>\n",
       "\t\t<dd>'integer'</dd>\n",
       "\t<dt>V30</dt>\n",
       "\t\t<dd>'integer'</dd>\n",
       "\t<dt>V31</dt>\n",
       "\t\t<dd>'integer'</dd>\n",
       "\t<dt>V32</dt>\n",
       "\t\t<dd>'integer'</dd>\n",
       "\t<dt>V33</dt>\n",
       "\t\t<dd>'integer'</dd>\n",
       "\t<dt>V34</dt>\n",
       "\t\t<dd>'integer'</dd>\n",
       "\t<dt>V35</dt>\n",
       "\t\t<dd>'integer'</dd>\n",
       "\t<dt>V36</dt>\n",
       "\t\t<dd>'integer'</dd>\n",
       "\t<dt>V37</dt>\n",
       "\t\t<dd>'integer'</dd>\n",
       "\t<dt>V38</dt>\n",
       "\t\t<dd>'integer'</dd>\n",
       "\t<dt>V39</dt>\n",
       "\t\t<dd>'integer'</dd>\n",
       "\t<dt>V40</dt>\n",
       "\t\t<dd>'integer'</dd>\n",
       "\t<dt>V41</dt>\n",
       "\t\t<dd>'integer'</dd>\n",
       "\t<dt>V42</dt>\n",
       "\t\t<dd>'integer'</dd>\n",
       "\t<dt>V43</dt>\n",
       "\t\t<dd>'integer'</dd>\n",
       "\t<dt>V44</dt>\n",
       "\t\t<dd>'integer'</dd>\n",
       "\t<dt>V45</dt>\n",
       "\t\t<dd>'integer'</dd>\n",
       "\t<dt>V46</dt>\n",
       "\t\t<dd>'integer'</dd>\n",
       "\t<dt>V47</dt>\n",
       "\t\t<dd>'integer'</dd>\n",
       "\t<dt>V48</dt>\n",
       "\t\t<dd>'integer'</dd>\n",
       "\t<dt>V49</dt>\n",
       "\t\t<dd>'integer'</dd>\n",
       "\t<dt>V50</dt>\n",
       "\t\t<dd>'integer'</dd>\n",
       "\t<dt>V51</dt>\n",
       "\t\t<dd>'integer'</dd>\n",
       "\t<dt>V52</dt>\n",
       "\t\t<dd>'integer'</dd>\n",
       "\t<dt>V53</dt>\n",
       "\t\t<dd>'integer'</dd>\n",
       "\t<dt>V54</dt>\n",
       "\t\t<dd>'integer'</dd>\n",
       "\t<dt>V55</dt>\n",
       "\t\t<dd>'integer'</dd>\n",
       "\t<dt>V56</dt>\n",
       "\t\t<dd>'integer'</dd>\n",
       "\t<dt>V57</dt>\n",
       "\t\t<dd>'integer'</dd>\n",
       "\t<dt>V58</dt>\n",
       "\t\t<dd>'integer'</dd>\n",
       "\t<dt>V59</dt>\n",
       "\t\t<dd>'integer'</dd>\n",
       "\t<dt>V60</dt>\n",
       "\t\t<dd>'integer'</dd>\n",
       "\t<dt>V61</dt>\n",
       "\t\t<dd>'integer'</dd>\n",
       "\t<dt>V62</dt>\n",
       "\t\t<dd>'integer'</dd>\n",
       "\t<dt>V63</dt>\n",
       "\t\t<dd>'integer'</dd>\n",
       "\t<dt>V64</dt>\n",
       "\t\t<dd>'integer'</dd>\n",
       "\t<dt>V65</dt>\n",
       "\t\t<dd>'integer'</dd>\n",
       "\t<dt>V66</dt>\n",
       "\t\t<dd>'integer'</dd>\n",
       "\t<dt>V67</dt>\n",
       "\t\t<dd>'integer'</dd>\n",
       "\t<dt>V68</dt>\n",
       "\t\t<dd>'integer'</dd>\n",
       "\t<dt>V69</dt>\n",
       "\t\t<dd>'integer'</dd>\n",
       "\t<dt>V70</dt>\n",
       "\t\t<dd>'integer'</dd>\n",
       "\t<dt>V71</dt>\n",
       "\t\t<dd>'integer'</dd>\n",
       "\t<dt>V72</dt>\n",
       "\t\t<dd>'integer'</dd>\n",
       "\t<dt>V73</dt>\n",
       "\t\t<dd>'integer'</dd>\n",
       "\t<dt>V74</dt>\n",
       "\t\t<dd>'integer'</dd>\n",
       "\t<dt>V75</dt>\n",
       "\t\t<dd>'integer'</dd>\n",
       "\t<dt>V76</dt>\n",
       "\t\t<dd>'integer'</dd>\n",
       "\t<dt>V77</dt>\n",
       "\t\t<dd>'integer'</dd>\n",
       "\t<dt>V78</dt>\n",
       "\t\t<dd>'integer'</dd>\n",
       "\t<dt>V79</dt>\n",
       "\t\t<dd>'integer'</dd>\n",
       "\t<dt>V80</dt>\n",
       "\t\t<dd>'integer'</dd>\n",
       "\t<dt>V81</dt>\n",
       "\t\t<dd>'integer'</dd>\n",
       "\t<dt>V82</dt>\n",
       "\t\t<dd>'integer'</dd>\n",
       "\t<dt>V83</dt>\n",
       "\t\t<dd>'integer'</dd>\n",
       "\t<dt>V84</dt>\n",
       "\t\t<dd>'integer'</dd>\n",
       "\t<dt>V85</dt>\n",
       "\t\t<dd>'integer'</dd>\n",
       "\t<dt>V86</dt>\n",
       "\t\t<dd>'integer'</dd>\n",
       "</dl>\n"
      ],
      "text/latex": [
       "\\begin{description*}\n",
       "\\item[V1] 'integer'\n",
       "\\item[V2] 'integer'\n",
       "\\item[V3] 'integer'\n",
       "\\item[V4] 'integer'\n",
       "\\item[V5] 'integer'\n",
       "\\item[V6] 'integer'\n",
       "\\item[V7] 'integer'\n",
       "\\item[V8] 'integer'\n",
       "\\item[V9] 'integer'\n",
       "\\item[V10] 'integer'\n",
       "\\item[V11] 'integer'\n",
       "\\item[V12] 'integer'\n",
       "\\item[V13] 'integer'\n",
       "\\item[V14] 'integer'\n",
       "\\item[V15] 'integer'\n",
       "\\item[V16] 'integer'\n",
       "\\item[V17] 'integer'\n",
       "\\item[V18] 'integer'\n",
       "\\item[V19] 'integer'\n",
       "\\item[V20] 'integer'\n",
       "\\item[V21] 'integer'\n",
       "\\item[V22] 'integer'\n",
       "\\item[V23] 'integer'\n",
       "\\item[V24] 'integer'\n",
       "\\item[V25] 'integer'\n",
       "\\item[V26] 'integer'\n",
       "\\item[V27] 'integer'\n",
       "\\item[V28] 'integer'\n",
       "\\item[V29] 'integer'\n",
       "\\item[V30] 'integer'\n",
       "\\item[V31] 'integer'\n",
       "\\item[V32] 'integer'\n",
       "\\item[V33] 'integer'\n",
       "\\item[V34] 'integer'\n",
       "\\item[V35] 'integer'\n",
       "\\item[V36] 'integer'\n",
       "\\item[V37] 'integer'\n",
       "\\item[V38] 'integer'\n",
       "\\item[V39] 'integer'\n",
       "\\item[V40] 'integer'\n",
       "\\item[V41] 'integer'\n",
       "\\item[V42] 'integer'\n",
       "\\item[V43] 'integer'\n",
       "\\item[V44] 'integer'\n",
       "\\item[V45] 'integer'\n",
       "\\item[V46] 'integer'\n",
       "\\item[V47] 'integer'\n",
       "\\item[V48] 'integer'\n",
       "\\item[V49] 'integer'\n",
       "\\item[V50] 'integer'\n",
       "\\item[V51] 'integer'\n",
       "\\item[V52] 'integer'\n",
       "\\item[V53] 'integer'\n",
       "\\item[V54] 'integer'\n",
       "\\item[V55] 'integer'\n",
       "\\item[V56] 'integer'\n",
       "\\item[V57] 'integer'\n",
       "\\item[V58] 'integer'\n",
       "\\item[V59] 'integer'\n",
       "\\item[V60] 'integer'\n",
       "\\item[V61] 'integer'\n",
       "\\item[V62] 'integer'\n",
       "\\item[V63] 'integer'\n",
       "\\item[V64] 'integer'\n",
       "\\item[V65] 'integer'\n",
       "\\item[V66] 'integer'\n",
       "\\item[V67] 'integer'\n",
       "\\item[V68] 'integer'\n",
       "\\item[V69] 'integer'\n",
       "\\item[V70] 'integer'\n",
       "\\item[V71] 'integer'\n",
       "\\item[V72] 'integer'\n",
       "\\item[V73] 'integer'\n",
       "\\item[V74] 'integer'\n",
       "\\item[V75] 'integer'\n",
       "\\item[V76] 'integer'\n",
       "\\item[V77] 'integer'\n",
       "\\item[V78] 'integer'\n",
       "\\item[V79] 'integer'\n",
       "\\item[V80] 'integer'\n",
       "\\item[V81] 'integer'\n",
       "\\item[V82] 'integer'\n",
       "\\item[V83] 'integer'\n",
       "\\item[V84] 'integer'\n",
       "\\item[V85] 'integer'\n",
       "\\item[V86] 'integer'\n",
       "\\end{description*}\n"
      ],
      "text/markdown": [
       "V1\n",
       ":   'integer'V2\n",
       ":   'integer'V3\n",
       ":   'integer'V4\n",
       ":   'integer'V5\n",
       ":   'integer'V6\n",
       ":   'integer'V7\n",
       ":   'integer'V8\n",
       ":   'integer'V9\n",
       ":   'integer'V10\n",
       ":   'integer'V11\n",
       ":   'integer'V12\n",
       ":   'integer'V13\n",
       ":   'integer'V14\n",
       ":   'integer'V15\n",
       ":   'integer'V16\n",
       ":   'integer'V17\n",
       ":   'integer'V18\n",
       ":   'integer'V19\n",
       ":   'integer'V20\n",
       ":   'integer'V21\n",
       ":   'integer'V22\n",
       ":   'integer'V23\n",
       ":   'integer'V24\n",
       ":   'integer'V25\n",
       ":   'integer'V26\n",
       ":   'integer'V27\n",
       ":   'integer'V28\n",
       ":   'integer'V29\n",
       ":   'integer'V30\n",
       ":   'integer'V31\n",
       ":   'integer'V32\n",
       ":   'integer'V33\n",
       ":   'integer'V34\n",
       ":   'integer'V35\n",
       ":   'integer'V36\n",
       ":   'integer'V37\n",
       ":   'integer'V38\n",
       ":   'integer'V39\n",
       ":   'integer'V40\n",
       ":   'integer'V41\n",
       ":   'integer'V42\n",
       ":   'integer'V43\n",
       ":   'integer'V44\n",
       ":   'integer'V45\n",
       ":   'integer'V46\n",
       ":   'integer'V47\n",
       ":   'integer'V48\n",
       ":   'integer'V49\n",
       ":   'integer'V50\n",
       ":   'integer'V51\n",
       ":   'integer'V52\n",
       ":   'integer'V53\n",
       ":   'integer'V54\n",
       ":   'integer'V55\n",
       ":   'integer'V56\n",
       ":   'integer'V57\n",
       ":   'integer'V58\n",
       ":   'integer'V59\n",
       ":   'integer'V60\n",
       ":   'integer'V61\n",
       ":   'integer'V62\n",
       ":   'integer'V63\n",
       ":   'integer'V64\n",
       ":   'integer'V65\n",
       ":   'integer'V66\n",
       ":   'integer'V67\n",
       ":   'integer'V68\n",
       ":   'integer'V69\n",
       ":   'integer'V70\n",
       ":   'integer'V71\n",
       ":   'integer'V72\n",
       ":   'integer'V73\n",
       ":   'integer'V74\n",
       ":   'integer'V75\n",
       ":   'integer'V76\n",
       ":   'integer'V77\n",
       ":   'integer'V78\n",
       ":   'integer'V79\n",
       ":   'integer'V80\n",
       ":   'integer'V81\n",
       ":   'integer'V82\n",
       ":   'integer'V83\n",
       ":   'integer'V84\n",
       ":   'integer'V85\n",
       ":   'integer'V86\n",
       ":   'integer'\n",
       "\n"
      ],
      "text/plain": [
       "       V1        V2        V3        V4        V5        V6        V7        V8 \n",
       "\"integer\" \"integer\" \"integer\" \"integer\" \"integer\" \"integer\" \"integer\" \"integer\" \n",
       "       V9       V10       V11       V12       V13       V14       V15       V16 \n",
       "\"integer\" \"integer\" \"integer\" \"integer\" \"integer\" \"integer\" \"integer\" \"integer\" \n",
       "      V17       V18       V19       V20       V21       V22       V23       V24 \n",
       "\"integer\" \"integer\" \"integer\" \"integer\" \"integer\" \"integer\" \"integer\" \"integer\" \n",
       "      V25       V26       V27       V28       V29       V30       V31       V32 \n",
       "\"integer\" \"integer\" \"integer\" \"integer\" \"integer\" \"integer\" \"integer\" \"integer\" \n",
       "      V33       V34       V35       V36       V37       V38       V39       V40 \n",
       "\"integer\" \"integer\" \"integer\" \"integer\" \"integer\" \"integer\" \"integer\" \"integer\" \n",
       "      V41       V42       V43       V44       V45       V46       V47       V48 \n",
       "\"integer\" \"integer\" \"integer\" \"integer\" \"integer\" \"integer\" \"integer\" \"integer\" \n",
       "      V49       V50       V51       V52       V53       V54       V55       V56 \n",
       "\"integer\" \"integer\" \"integer\" \"integer\" \"integer\" \"integer\" \"integer\" \"integer\" \n",
       "      V57       V58       V59       V60       V61       V62       V63       V64 \n",
       "\"integer\" \"integer\" \"integer\" \"integer\" \"integer\" \"integer\" \"integer\" \"integer\" \n",
       "      V65       V66       V67       V68       V69       V70       V71       V72 \n",
       "\"integer\" \"integer\" \"integer\" \"integer\" \"integer\" \"integer\" \"integer\" \"integer\" \n",
       "      V73       V74       V75       V76       V77       V78       V79       V80 \n",
       "\"integer\" \"integer\" \"integer\" \"integer\" \"integer\" \"integer\" \"integer\" \"integer\" \n",
       "      V81       V82       V83       V84       V85       V86 \n",
       "\"integer\" \"integer\" \"integer\" \"integer\" \"integer\" \"integer\" "
      ]
     },
     "metadata": {},
     "output_type": "display_data"
    },
    {
     "data": {
      "text/plain": [
       "       V1              V2               V3              V4       \n",
       " Min.   : 1.00   Min.   : 1.000   Min.   :1.000   Min.   :1.000  \n",
       " 1st Qu.:10.00   1st Qu.: 1.000   1st Qu.:2.000   1st Qu.:2.000  \n",
       " Median :30.00   Median : 1.000   Median :3.000   Median :3.000  \n",
       " Mean   :24.25   Mean   : 1.111   Mean   :2.679   Mean   :2.991  \n",
       " 3rd Qu.:35.00   3rd Qu.: 1.000   3rd Qu.:3.000   3rd Qu.:3.000  \n",
       " Max.   :41.00   Max.   :10.000   Max.   :5.000   Max.   :6.000  \n",
       "       V5               V6               V7              V8      \n",
       " Min.   : 1.000   Min.   :0.0000   Min.   :0.000   Min.   :0.00  \n",
       " 1st Qu.: 3.000   1st Qu.:0.0000   1st Qu.:4.000   1st Qu.:0.00  \n",
       " Median : 7.000   Median :0.0000   Median :5.000   Median :1.00  \n",
       " Mean   : 5.774   Mean   :0.6965   Mean   :4.627   Mean   :1.07  \n",
       " 3rd Qu.: 8.000   3rd Qu.:1.0000   3rd Qu.:6.000   3rd Qu.:2.00  \n",
       " Max.   :10.000   Max.   :9.0000   Max.   :9.000   Max.   :5.00  \n",
       "       V9             V10             V11              V12      \n",
       " Min.   :0.000   Min.   :0.000   Min.   :0.0000   Min.   :0.00  \n",
       " 1st Qu.:2.000   1st Qu.:5.000   1st Qu.:0.0000   1st Qu.:1.00  \n",
       " Median :3.000   Median :6.000   Median :1.0000   Median :2.00  \n",
       " Mean   :3.259   Mean   :6.183   Mean   :0.8835   Mean   :2.29  \n",
       " 3rd Qu.:4.000   3rd Qu.:7.000   3rd Qu.:1.0000   3rd Qu.:3.00  \n",
       " Max.   :9.000   Max.   :9.000   Max.   :7.0000   Max.   :9.00  \n",
       "      V13             V14            V15           V16             V17       \n",
       " Min.   :0.000   Min.   :0.00   Min.   :0.0   Min.   :0.000   Min.   :0.000  \n",
       " 1st Qu.:0.000   1st Qu.:2.00   1st Qu.:3.0   1st Qu.:0.000   1st Qu.:2.000  \n",
       " Median :2.000   Median :3.00   Median :4.0   Median :1.000   Median :3.000  \n",
       " Mean   :1.888   Mean   :3.23   Mean   :4.3   Mean   :1.461   Mean   :3.351  \n",
       " 3rd Qu.:3.000   3rd Qu.:4.00   3rd Qu.:6.0   3rd Qu.:2.000   3rd Qu.:4.000  \n",
       " Max.   :9.000   Max.   :9.00   Max.   :9.0   Max.   :9.000   Max.   :9.000  \n",
       "      V18             V19             V20             V21        \n",
       " Min.   :0.000   Min.   :0.000   Min.   :0.000   Min.   :0.0000  \n",
       " 1st Qu.:3.000   1st Qu.:0.000   1st Qu.:0.000   1st Qu.:0.0000  \n",
       " Median :5.000   Median :2.000   Median :0.000   Median :0.0000  \n",
       " Mean   :4.572   Mean   :1.895   Mean   :0.398   Mean   :0.5223  \n",
       " 3rd Qu.:6.000   3rd Qu.:3.000   3rd Qu.:1.000   3rd Qu.:1.0000  \n",
       " Max.   :9.000   Max.   :9.000   Max.   :5.000   Max.   :9.0000  \n",
       "      V22             V23            V24             V25             V26       \n",
       " Min.   :0.000   Min.   :0.00   Min.   :0.000   Min.   :0.000   Min.   :0.000  \n",
       " 1st Qu.:2.000   1st Qu.:1.00   1st Qu.:1.000   1st Qu.:0.000   1st Qu.:1.000  \n",
       " Median :3.000   Median :2.00   Median :2.000   Median :1.000   Median :2.000  \n",
       " Mean   :2.899   Mean   :2.22   Mean   :2.306   Mean   :1.621   Mean   :1.607  \n",
       " 3rd Qu.:4.000   3rd Qu.:3.00   3rd Qu.:3.000   3rd Qu.:2.000   3rd Qu.:2.000  \n",
       " Max.   :9.000   Max.   :9.00   Max.   :9.000   Max.   :9.000   Max.   :9.000  \n",
       "      V27             V28             V29             V30       \n",
       " Min.   :0.000   Min.   :0.000   Min.   :0.000   Min.   :0.000  \n",
       " 1st Qu.:1.000   1st Qu.:2.000   1st Qu.:0.000   1st Qu.:2.000  \n",
       " Median :2.000   Median :4.000   Median :1.000   Median :4.000  \n",
       " Mean   :2.203   Mean   :3.759   Mean   :1.067   Mean   :4.237  \n",
       " 3rd Qu.:3.000   3rd Qu.:5.000   3rd Qu.:2.000   3rd Qu.:7.000  \n",
       " Max.   :9.000   Max.   :9.000   Max.   :9.000   Max.   :9.000  \n",
       "      V31             V32            V33             V34             V35       \n",
       " Min.   :0.000   Min.   :0.00   Min.   :0.000   Min.   :0.000   Min.   :0.000  \n",
       " 1st Qu.:2.000   1st Qu.:5.00   1st Qu.:0.000   1st Qu.:1.000   1st Qu.:5.000  \n",
       " Median :5.000   Median :6.00   Median :1.000   Median :2.000   Median :7.000  \n",
       " Mean   :4.772   Mean   :6.04   Mean   :1.316   Mean   :1.959   Mean   :6.277  \n",
       " 3rd Qu.:7.000   3rd Qu.:7.00   3rd Qu.:2.000   3rd Qu.:3.000   3rd Qu.:8.000  \n",
       " Max.   :9.000   Max.   :9.00   Max.   :7.000   Max.   :9.000   Max.   :9.000  \n",
       "      V36             V37             V38             V39       \n",
       " Min.   :0.000   Min.   :0.000   Min.   :0.000   Min.   :0.000  \n",
       " 1st Qu.:1.000   1st Qu.:1.000   1st Qu.:2.000   1st Qu.:1.000  \n",
       " Median :2.000   Median :2.000   Median :4.000   Median :3.000  \n",
       " Mean   :2.729   Mean   :2.574   Mean   :3.536   Mean   :2.731  \n",
       " 3rd Qu.:4.000   3rd Qu.:4.000   3rd Qu.:5.000   3rd Qu.:4.000  \n",
       " Max.   :9.000   Max.   :9.000   Max.   :9.000   Max.   :9.000  \n",
       "      V40              V41              V42             V43       \n",
       " Min.   :0.0000   Min.   :0.0000   Min.   :0.000   Min.   :1.000  \n",
       " 1st Qu.:0.0000   1st Qu.:0.0000   1st Qu.:3.000   1st Qu.:3.000  \n",
       " Median :0.0000   Median :0.0000   Median :4.000   Median :4.000  \n",
       " Mean   :0.7961   Mean   :0.2027   Mean   :3.784   Mean   :4.236  \n",
       " 3rd Qu.:1.0000   3rd Qu.:0.0000   3rd Qu.:4.000   3rd Qu.:6.000  \n",
       " Max.   :9.0000   Max.   :9.0000   Max.   :9.000   Max.   :8.000  \n",
       "      V44              V45               V46               V47      \n",
       " Min.   :0.0000   Min.   :0.00000   Min.   :0.00000   Min.   :0.00  \n",
       " 1st Qu.:0.0000   1st Qu.:0.00000   1st Qu.:0.00000   1st Qu.:0.00  \n",
       " Median :0.0000   Median :0.00000   Median :0.00000   Median :5.00  \n",
       " Mean   :0.7712   Mean   :0.04002   Mean   :0.07162   Mean   :2.97  \n",
       " 3rd Qu.:2.0000   3rd Qu.:0.00000   3rd Qu.:0.00000   3rd Qu.:6.00  \n",
       " Max.   :3.0000   Max.   :6.00000   Max.   :4.00000   Max.   :8.00  \n",
       "      V48               V49              V50                V51         \n",
       " Min.   :0.00000   Min.   :0.0000   Min.   :0.000000   Min.   :0.00000  \n",
       " 1st Qu.:0.00000   1st Qu.:0.0000   1st Qu.:0.000000   1st Qu.:0.00000  \n",
       " Median :0.00000   Median :0.0000   Median :0.000000   Median :0.00000  \n",
       " Mean   :0.04827   Mean   :0.1754   Mean   :0.009447   Mean   :0.02096  \n",
       " 3rd Qu.:0.00000   3rd Qu.:0.0000   3rd Qu.:0.000000   3rd Qu.:0.00000  \n",
       " Max.   :7.00000   Max.   :7.0000   Max.   :9.000000   Max.   :5.00000  \n",
       "      V52               V53               V54             V55        \n",
       " Min.   :0.00000   Min.   :0.00000   Min.   :0.000   Min.   :0.0000  \n",
       " 1st Qu.:0.00000   1st Qu.:0.00000   1st Qu.:0.000   1st Qu.:0.0000  \n",
       " Median :0.00000   Median :0.00000   Median :0.000   Median :0.0000  \n",
       " Mean   :0.09258   Mean   :0.01305   Mean   :0.215   Mean   :0.1948  \n",
       " 3rd Qu.:0.00000   3rd Qu.:0.00000   3rd Qu.:0.000   3rd Qu.:0.0000  \n",
       " Max.   :6.00000   Max.   :6.00000   Max.   :6.000   Max.   :9.0000  \n",
       "      V56               V57               V58               V59       \n",
       " Min.   :0.00000   Min.   :0.00000   Min.   :0.00000   Min.   :0.000  \n",
       " 1st Qu.:0.00000   1st Qu.:0.00000   1st Qu.:0.00000   1st Qu.:0.000  \n",
       " Median :0.00000   Median :0.00000   Median :0.00000   Median :2.000  \n",
       " Mean   :0.01374   Mean   :0.01529   Mean   :0.02353   Mean   :1.828  \n",
       " 3rd Qu.:0.00000   3rd Qu.:0.00000   3rd Qu.:0.00000   3rd Qu.:4.000  \n",
       " Max.   :6.00000   Max.   :3.00000   Max.   :7.00000   Max.   :8.000  \n",
       "      V60                 V61               V62               V63         \n",
       " Min.   :0.0000000   Min.   :0.00000   Min.   :0.00000   Min.   :0.00000  \n",
       " 1st Qu.:0.0000000   1st Qu.:0.00000   1st Qu.:0.00000   1st Qu.:0.00000  \n",
       " Median :0.0000000   Median :0.00000   Median :0.00000   Median :0.00000  \n",
       " Mean   :0.0008588   Mean   :0.01889   Mean   :0.02525   Mean   :0.01563  \n",
       " 3rd Qu.:0.0000000   3rd Qu.:0.00000   3rd Qu.:0.00000   3rd Qu.:0.00000  \n",
       " Max.   :3.0000000   Max.   :6.00000   Max.   :1.00000   Max.   :6.00000  \n",
       "      V64               V65             V66               V67         \n",
       " Min.   :0.00000   Min.   :0.000   Min.   :0.00000   Min.   :0.00000  \n",
       " 1st Qu.:0.00000   1st Qu.:0.000   1st Qu.:0.00000   1st Qu.:0.00000  \n",
       " Median :0.00000   Median :0.000   Median :0.00000   Median :0.00000  \n",
       " Mean   :0.04758   Mean   :0.403   Mean   :0.01477   Mean   :0.02061  \n",
       " 3rd Qu.:0.00000   3rd Qu.:1.000   3rd Qu.:0.00000   3rd Qu.:0.00000  \n",
       " Max.   :5.00000   Max.   :2.000   Max.   :5.00000   Max.   :1.00000  \n",
       "      V68              V69               V70               V71          \n",
       " Min.   :0.0000   Min.   :0.00000   Min.   :0.00000   Min.   :0.000000  \n",
       " 1st Qu.:0.0000   1st Qu.:0.00000   1st Qu.:0.00000   1st Qu.:0.000000  \n",
       " Median :1.0000   Median :0.00000   Median :0.00000   Median :0.000000  \n",
       " Mean   :0.5622   Mean   :0.01048   Mean   :0.04105   Mean   :0.002233  \n",
       " 3rd Qu.:1.0000   3rd Qu.:0.00000   3rd Qu.:0.00000   3rd Qu.:0.000000  \n",
       " Max.   :7.0000   Max.   :4.00000   Max.   :8.00000   Max.   :3.000000  \n",
       "      V72               V73               V74                V75         \n",
       " Min.   :0.00000   Min.   :0.00000   Min.   :0.000000   Min.   :0.00000  \n",
       " 1st Qu.:0.00000   1st Qu.:0.00000   1st Qu.:0.000000   1st Qu.:0.00000  \n",
       " Median :0.00000   Median :0.00000   Median :0.000000   Median :0.00000  \n",
       " Mean   :0.01254   Mean   :0.03367   Mean   :0.006183   Mean   :0.07042  \n",
       " 3rd Qu.:0.00000   3rd Qu.:0.00000   3rd Qu.:0.000000   3rd Qu.:0.00000  \n",
       " Max.   :3.00000   Max.   :4.00000   Max.   :6.000000   Max.   :2.00000  \n",
       "      V76               V77                V78                V79          \n",
       " Min.   :0.00000   Min.   :0.000000   Min.   :0.000000   Min.   :0.000000  \n",
       " 1st Qu.:0.00000   1st Qu.:0.000000   1st Qu.:0.000000   1st Qu.:0.000000  \n",
       " Median :0.00000   Median :0.000000   Median :0.000000   Median :0.000000  \n",
       " Mean   :0.07661   Mean   :0.005325   Mean   :0.006527   Mean   :0.004638  \n",
       " 3rd Qu.:0.00000   3rd Qu.:0.000000   3rd Qu.:0.000000   3rd Qu.:0.000000  \n",
       " Max.   :8.00000   Max.   :1.000000   Max.   :1.000000   Max.   :2.000000  \n",
       "      V80              V81                 V82                V83         \n",
       " Min.   :0.0000   Min.   :0.0000000   Min.   :0.000000   Min.   :0.00000  \n",
       " 1st Qu.:0.0000   1st Qu.:0.0000000   1st Qu.:0.000000   1st Qu.:0.00000  \n",
       " Median :1.0000   Median :0.0000000   Median :0.000000   Median :0.00000  \n",
       " Mean   :0.5701   Mean   :0.0005153   Mean   :0.006012   Mean   :0.03178  \n",
       " 3rd Qu.:1.0000   3rd Qu.:0.0000000   3rd Qu.:0.000000   3rd Qu.:0.00000  \n",
       " Max.   :7.0000   Max.   :1.0000000   Max.   :2.000000   Max.   :3.00000  \n",
       "      V84                V85               V86         \n",
       " Min.   :0.000000   Min.   :0.00000   Min.   :0.00000  \n",
       " 1st Qu.:0.000000   1st Qu.:0.00000   1st Qu.:0.00000  \n",
       " Median :0.000000   Median :0.00000   Median :0.00000  \n",
       " Mean   :0.007901   Mean   :0.01426   Mean   :0.05977  \n",
       " 3rd Qu.:0.000000   3rd Qu.:0.00000   3rd Qu.:0.00000  \n",
       " Max.   :2.000000   Max.   :2.00000   Max.   :1.00000  "
      ]
     },
     "metadata": {},
     "output_type": "display_data"
    },
    {
     "data": {
      "text/html": [
       "<dl class=dl-horizontal>\n",
       "\t<dt>V1</dt>\n",
       "\t\t<dd>40</dd>\n",
       "\t<dt>V2</dt>\n",
       "\t\t<dd>9</dd>\n",
       "\t<dt>V3</dt>\n",
       "\t\t<dd>5</dd>\n",
       "\t<dt>V4</dt>\n",
       "\t\t<dd>6</dd>\n",
       "\t<dt>V5</dt>\n",
       "\t\t<dd>10</dd>\n",
       "\t<dt>V6</dt>\n",
       "\t\t<dd>10</dd>\n",
       "\t<dt>V7</dt>\n",
       "\t\t<dd>10</dd>\n",
       "\t<dt>V8</dt>\n",
       "\t\t<dd>6</dd>\n",
       "\t<dt>V9</dt>\n",
       "\t\t<dd>10</dd>\n",
       "\t<dt>V10</dt>\n",
       "\t\t<dd>10</dd>\n",
       "\t<dt>V11</dt>\n",
       "\t\t<dd>8</dd>\n",
       "\t<dt>V12</dt>\n",
       "\t\t<dd>10</dd>\n",
       "\t<dt>V13</dt>\n",
       "\t\t<dd>10</dd>\n",
       "\t<dt>V14</dt>\n",
       "\t\t<dd>10</dd>\n",
       "\t<dt>V15</dt>\n",
       "\t\t<dd>10</dd>\n",
       "\t<dt>V16</dt>\n",
       "\t\t<dd>10</dd>\n",
       "\t<dt>V17</dt>\n",
       "\t\t<dd>10</dd>\n",
       "\t<dt>V18</dt>\n",
       "\t\t<dd>10</dd>\n",
       "\t<dt>V19</dt>\n",
       "\t\t<dd>10</dd>\n",
       "\t<dt>V20</dt>\n",
       "\t\t<dd>6</dd>\n",
       "\t<dt>V21</dt>\n",
       "\t\t<dd>10</dd>\n",
       "\t<dt>V22</dt>\n",
       "\t\t<dd>10</dd>\n",
       "\t<dt>V23</dt>\n",
       "\t\t<dd>10</dd>\n",
       "\t<dt>V24</dt>\n",
       "\t\t<dd>10</dd>\n",
       "\t<dt>V25</dt>\n",
       "\t\t<dd>10</dd>\n",
       "\t<dt>V26</dt>\n",
       "\t\t<dd>10</dd>\n",
       "\t<dt>V27</dt>\n",
       "\t\t<dd>10</dd>\n",
       "\t<dt>V28</dt>\n",
       "\t\t<dd>10</dd>\n",
       "\t<dt>V29</dt>\n",
       "\t\t<dd>9</dd>\n",
       "\t<dt>V30</dt>\n",
       "\t\t<dd>10</dd>\n",
       "\t<dt>V31</dt>\n",
       "\t\t<dd>10</dd>\n",
       "\t<dt>V32</dt>\n",
       "\t\t<dd>10</dd>\n",
       "\t<dt>V33</dt>\n",
       "\t\t<dd>8</dd>\n",
       "\t<dt>V34</dt>\n",
       "\t\t<dd>10</dd>\n",
       "\t<dt>V35</dt>\n",
       "\t\t<dd>10</dd>\n",
       "\t<dt>V36</dt>\n",
       "\t\t<dd>10</dd>\n",
       "\t<dt>V37</dt>\n",
       "\t\t<dd>10</dd>\n",
       "\t<dt>V38</dt>\n",
       "\t\t<dd>10</dd>\n",
       "\t<dt>V39</dt>\n",
       "\t\t<dd>10</dd>\n",
       "\t<dt>V40</dt>\n",
       "\t\t<dd>10</dd>\n",
       "\t<dt>V41</dt>\n",
       "\t\t<dd>8</dd>\n",
       "\t<dt>V42</dt>\n",
       "\t\t<dd>10</dd>\n",
       "\t<dt>V43</dt>\n",
       "\t\t<dd>8</dd>\n",
       "\t<dt>V44</dt>\n",
       "\t\t<dd>4</dd>\n",
       "\t<dt>V45</dt>\n",
       "\t\t<dd>7</dd>\n",
       "\t<dt>V46</dt>\n",
       "\t\t<dd>4</dd>\n",
       "\t<dt>V47</dt>\n",
       "\t\t<dd>6</dd>\n",
       "\t<dt>V48</dt>\n",
       "\t\t<dd>4</dd>\n",
       "\t<dt>V49</dt>\n",
       "\t\t<dd>6</dd>\n",
       "\t<dt>V50</dt>\n",
       "\t\t<dd>4</dd>\n",
       "\t<dt>V51</dt>\n",
       "\t\t<dd>6</dd>\n",
       "\t<dt>V52</dt>\n",
       "\t\t<dd>5</dd>\n",
       "\t<dt>V53</dt>\n",
       "\t\t<dd>5</dd>\n",
       "\t<dt>V54</dt>\n",
       "\t\t<dd>6</dd>\n",
       "\t<dt>V55</dt>\n",
       "\t\t<dd>10</dd>\n",
       "\t<dt>V56</dt>\n",
       "\t\t<dd>7</dd>\n",
       "\t<dt>V57</dt>\n",
       "\t\t<dd>3</dd>\n",
       "\t<dt>V58</dt>\n",
       "\t\t<dd>5</dd>\n",
       "\t<dt>V59</dt>\n",
       "\t\t<dd>9</dd>\n",
       "\t<dt>V60</dt>\n",
       "\t\t<dd>3</dd>\n",
       "\t<dt>V61</dt>\n",
       "\t\t<dd>7</dd>\n",
       "\t<dt>V62</dt>\n",
       "\t\t<dd>2</dd>\n",
       "\t<dt>V63</dt>\n",
       "\t\t<dd>7</dd>\n",
       "\t<dt>V64</dt>\n",
       "\t\t<dd>5</dd>\n",
       "\t<dt>V65</dt>\n",
       "\t\t<dd>3</dd>\n",
       "\t<dt>V66</dt>\n",
       "\t\t<dd>3</dd>\n",
       "\t<dt>V67</dt>\n",
       "\t\t<dd>2</dd>\n",
       "\t<dt>V68</dt>\n",
       "\t\t<dd>7</dd>\n",
       "\t<dt>V69</dt>\n",
       "\t\t<dd>5</dd>\n",
       "\t<dt>V70</dt>\n",
       "\t\t<dd>4</dd>\n",
       "\t<dt>V71</dt>\n",
       "\t\t<dd>4</dd>\n",
       "\t<dt>V72</dt>\n",
       "\t\t<dd>4</dd>\n",
       "\t<dt>V73</dt>\n",
       "\t\t<dd>5</dd>\n",
       "\t<dt>V74</dt>\n",
       "\t\t<dd>5</dd>\n",
       "\t<dt>V75</dt>\n",
       "\t\t<dd>3</dd>\n",
       "\t<dt>V76</dt>\n",
       "\t\t<dd>6</dd>\n",
       "\t<dt>V77</dt>\n",
       "\t\t<dd>2</dd>\n",
       "\t<dt>V78</dt>\n",
       "\t\t<dd>2</dd>\n",
       "\t<dt>V79</dt>\n",
       "\t\t<dd>3</dd>\n",
       "\t<dt>V80</dt>\n",
       "\t\t<dd>7</dd>\n",
       "\t<dt>V81</dt>\n",
       "\t\t<dd>2</dd>\n",
       "\t<dt>V82</dt>\n",
       "\t\t<dd>3</dd>\n",
       "\t<dt>V83</dt>\n",
       "\t\t<dd>4</dd>\n",
       "\t<dt>V84</dt>\n",
       "\t\t<dd>3</dd>\n",
       "\t<dt>V85</dt>\n",
       "\t\t<dd>3</dd>\n",
       "\t<dt>V86</dt>\n",
       "\t\t<dd>2</dd>\n",
       "</dl>\n"
      ],
      "text/latex": [
       "\\begin{description*}\n",
       "\\item[V1] 40\n",
       "\\item[V2] 9\n",
       "\\item[V3] 5\n",
       "\\item[V4] 6\n",
       "\\item[V5] 10\n",
       "\\item[V6] 10\n",
       "\\item[V7] 10\n",
       "\\item[V8] 6\n",
       "\\item[V9] 10\n",
       "\\item[V10] 10\n",
       "\\item[V11] 8\n",
       "\\item[V12] 10\n",
       "\\item[V13] 10\n",
       "\\item[V14] 10\n",
       "\\item[V15] 10\n",
       "\\item[V16] 10\n",
       "\\item[V17] 10\n",
       "\\item[V18] 10\n",
       "\\item[V19] 10\n",
       "\\item[V20] 6\n",
       "\\item[V21] 10\n",
       "\\item[V22] 10\n",
       "\\item[V23] 10\n",
       "\\item[V24] 10\n",
       "\\item[V25] 10\n",
       "\\item[V26] 10\n",
       "\\item[V27] 10\n",
       "\\item[V28] 10\n",
       "\\item[V29] 9\n",
       "\\item[V30] 10\n",
       "\\item[V31] 10\n",
       "\\item[V32] 10\n",
       "\\item[V33] 8\n",
       "\\item[V34] 10\n",
       "\\item[V35] 10\n",
       "\\item[V36] 10\n",
       "\\item[V37] 10\n",
       "\\item[V38] 10\n",
       "\\item[V39] 10\n",
       "\\item[V40] 10\n",
       "\\item[V41] 8\n",
       "\\item[V42] 10\n",
       "\\item[V43] 8\n",
       "\\item[V44] 4\n",
       "\\item[V45] 7\n",
       "\\item[V46] 4\n",
       "\\item[V47] 6\n",
       "\\item[V48] 4\n",
       "\\item[V49] 6\n",
       "\\item[V50] 4\n",
       "\\item[V51] 6\n",
       "\\item[V52] 5\n",
       "\\item[V53] 5\n",
       "\\item[V54] 6\n",
       "\\item[V55] 10\n",
       "\\item[V56] 7\n",
       "\\item[V57] 3\n",
       "\\item[V58] 5\n",
       "\\item[V59] 9\n",
       "\\item[V60] 3\n",
       "\\item[V61] 7\n",
       "\\item[V62] 2\n",
       "\\item[V63] 7\n",
       "\\item[V64] 5\n",
       "\\item[V65] 3\n",
       "\\item[V66] 3\n",
       "\\item[V67] 2\n",
       "\\item[V68] 7\n",
       "\\item[V69] 5\n",
       "\\item[V70] 4\n",
       "\\item[V71] 4\n",
       "\\item[V72] 4\n",
       "\\item[V73] 5\n",
       "\\item[V74] 5\n",
       "\\item[V75] 3\n",
       "\\item[V76] 6\n",
       "\\item[V77] 2\n",
       "\\item[V78] 2\n",
       "\\item[V79] 3\n",
       "\\item[V80] 7\n",
       "\\item[V81] 2\n",
       "\\item[V82] 3\n",
       "\\item[V83] 4\n",
       "\\item[V84] 3\n",
       "\\item[V85] 3\n",
       "\\item[V86] 2\n",
       "\\end{description*}\n"
      ],
      "text/markdown": [
       "V1\n",
       ":   40V2\n",
       ":   9V3\n",
       ":   5V4\n",
       ":   6V5\n",
       ":   10V6\n",
       ":   10V7\n",
       ":   10V8\n",
       ":   6V9\n",
       ":   10V10\n",
       ":   10V11\n",
       ":   8V12\n",
       ":   10V13\n",
       ":   10V14\n",
       ":   10V15\n",
       ":   10V16\n",
       ":   10V17\n",
       ":   10V18\n",
       ":   10V19\n",
       ":   10V20\n",
       ":   6V21\n",
       ":   10V22\n",
       ":   10V23\n",
       ":   10V24\n",
       ":   10V25\n",
       ":   10V26\n",
       ":   10V27\n",
       ":   10V28\n",
       ":   10V29\n",
       ":   9V30\n",
       ":   10V31\n",
       ":   10V32\n",
       ":   10V33\n",
       ":   8V34\n",
       ":   10V35\n",
       ":   10V36\n",
       ":   10V37\n",
       ":   10V38\n",
       ":   10V39\n",
       ":   10V40\n",
       ":   10V41\n",
       ":   8V42\n",
       ":   10V43\n",
       ":   8V44\n",
       ":   4V45\n",
       ":   7V46\n",
       ":   4V47\n",
       ":   6V48\n",
       ":   4V49\n",
       ":   6V50\n",
       ":   4V51\n",
       ":   6V52\n",
       ":   5V53\n",
       ":   5V54\n",
       ":   6V55\n",
       ":   10V56\n",
       ":   7V57\n",
       ":   3V58\n",
       ":   5V59\n",
       ":   9V60\n",
       ":   3V61\n",
       ":   7V62\n",
       ":   2V63\n",
       ":   7V64\n",
       ":   5V65\n",
       ":   3V66\n",
       ":   3V67\n",
       ":   2V68\n",
       ":   7V69\n",
       ":   5V70\n",
       ":   4V71\n",
       ":   4V72\n",
       ":   4V73\n",
       ":   5V74\n",
       ":   5V75\n",
       ":   3V76\n",
       ":   6V77\n",
       ":   2V78\n",
       ":   2V79\n",
       ":   3V80\n",
       ":   7V81\n",
       ":   2V82\n",
       ":   3V83\n",
       ":   4V84\n",
       ":   3V85\n",
       ":   3V86\n",
       ":   2\n",
       "\n"
      ],
      "text/plain": [
       " V1  V2  V3  V4  V5  V6  V7  V8  V9 V10 V11 V12 V13 V14 V15 V16 V17 V18 V19 V20 \n",
       " 40   9   5   6  10  10  10   6  10  10   8  10  10  10  10  10  10  10  10   6 \n",
       "V21 V22 V23 V24 V25 V26 V27 V28 V29 V30 V31 V32 V33 V34 V35 V36 V37 V38 V39 V40 \n",
       " 10  10  10  10  10  10  10  10   9  10  10  10   8  10  10  10  10  10  10  10 \n",
       "V41 V42 V43 V44 V45 V46 V47 V48 V49 V50 V51 V52 V53 V54 V55 V56 V57 V58 V59 V60 \n",
       "  8  10   8   4   7   4   6   4   6   4   6   5   5   6  10   7   3   5   9   3 \n",
       "V61 V62 V63 V64 V65 V66 V67 V68 V69 V70 V71 V72 V73 V74 V75 V76 V77 V78 V79 V80 \n",
       "  7   2   7   5   3   3   2   7   5   4   4   4   5   5   3   6   2   2   3   7 \n",
       "V81 V82 V83 V84 V85 V86 \n",
       "  2   3   4   3   3   2 "
      ]
     },
     "metadata": {},
     "output_type": "display_data"
    }
   ],
   "source": [
    "# Statistics of the training data\n",
    "sapply(trainData,class)\n",
    "summary(trainData)\n",
    "lengths(lapply(trainData, unique))"
   ]
  },
  {
   "cell_type": "markdown",
   "metadata": {},
   "source": [
    "We need to convert the response variable to a factor as the possible values for the response are only 0 and 1. From the statistics we can see that the response is also just a number."
   ]
  },
  {
   "cell_type": "code",
   "execution_count": 71,
   "metadata": {
    "collapsed": true
   },
   "outputs": [],
   "source": [
    "trainData$V86 = as.factor(trainData$V86)"
   ]
  },
  {
   "cell_type": "markdown",
   "metadata": {},
   "source": [
    "### Exploring the relationship\n",
    "\n",
    "Let's do some plotting between few columns which we think would influence the purchase of caravan policy by customer. This can be selected by our intution before selecting a subset from them to build a model. From the given variables we can select the customer type, customer sub type, education level, age, income are some of the variables which might influence the response. "
   ]
  },
  {
   "cell_type": "code",
   "execution_count": 72,
   "metadata": {
    "scrolled": false
   },
   "outputs": [
    {
     "data": {},
     "metadata": {},
     "output_type": "display_data"
    },
    {
     "data": {
      "image/png": "[encoded data removed]",
      "text/plain": [
       "plot without title"
      ]
     },
     "metadata": {},
     "output_type": "display_data"
    }
   ],
   "source": [
    "ggplot(trainData, aes(x=(V86),fill = V86)) +\n",
    "geom_bar(stat=\"count\", width=0.7)\n"
   ]
  },
  {
   "cell_type": "markdown",
   "metadata": {},
   "source": [
    "From the above graph we can see that the number of customers without a caravan policy is much greater than the customers who have a caravan policy. Exploring the data by each value of response variable would be more insightful. Hence few plots will be only for the rows that have the response variable is 1 rather than 0.  "
   ]
  },
  {
   "cell_type": "markdown",
   "metadata": {},
   "source": [
    "### Plotting the customer main type with the number of caravan policies\n",
    "\n",
    "By plotting the number of people in each customer type according to the number of caravan policies, we can see which group has more policies and which group has the least caravan policies."
   ]
  },
  {
   "cell_type": "code",
   "execution_count": 85,
   "metadata": {},
   "outputs": [
    {
     "data": {},
     "metadata": {},
     "output_type": "display_data"
    },
    {
     "data": {
      "image/png": "[encoded data removed]",
      "text/plain": [
       "plot without title"
      ]
     },
     "metadata": {},
     "output_type": "display_data"
    }
   ],
   "source": [
    "#barplot using ggplot\n",
    "ggplot(trainData, aes(factor(V5))) + \n",
    "labs(y = \"Number of Customers\", x = \"Customer Main Type\", title = \"Customer main type Vs Caravan Policy\") +\n",
    "geom_bar(aes(fill = V86))"
   ]
  },
  {
   "cell_type": "markdown",
   "metadata": {},
   "source": [
    "#### Insights from plot\n",
    "\n",
    "As we can see that the number of customers belonging to customer type \"Family with grown ups\" is the highest in the provided data. Interestingly the number of customers with and without caravan policies are also highest in this type. The customer types \"Driven Growers\", \"Average family\", \"Successful hedonists\", \"Conservative families\" have the nearly same caravan policies number. But when \"Driven Growers\" type has the highest number of caravan policies when compared with the total number of customers in that type. The \"Career Loners\" type doesn't have a single customer who bought a caravan policy."
   ]
  },
  {
   "cell_type": "markdown",
   "metadata": {},
   "source": [
    "### Plotting the customer subtype with the number of caravan policies\n",
    "\n",
    "Let's divide the customer type into more groups. The first column in the data provided us with that information."
   ]
  },
  {
   "cell_type": "code",
   "execution_count": 86,
   "metadata": {},
   "outputs": [
    {
     "data": {},
     "metadata": {},
     "output_type": "display_data"
    },
    {
     "data": {
      "image/png": "[encoded data removed]",
      "text/plain": [
       "plot without title"
      ]
     },
     "metadata": {},
     "output_type": "display_data"
    }
   ],
   "source": [
    "#Plot for the data\n",
    "ggplot(trainData, aes(factor(V1)))+\n",
    "labs(y = \"Number of Customers\", x = \"Customer Subtype\", title = \"Customer subtype Vs Caravan Policy\")+\n",
    "geom_bar(aes(fill = V86)) +coord_flip()"
   ]
  },
  {
   "cell_type": "markdown",
   "metadata": {},
   "source": [
    "#### Insights from plot\n",
    "\n",
    "Insights similar to customer main type can be made for customer subtype also. The subtypes \"Middle class families\" and \"Lower class large families\" have the highest number of caravan policies compared to all the subtypes. But the total number of customers is large in \"Lower class large families\". The next subtype that has more caravan policies is \"High Status seniors\" followed by \"Traditional families\" and \"Large religious families\". The subtypes like \"Junior Cosmopolitans\", \"Senior Cosmopolitans\", \"Students in apartments\", \"Fresh Masters in the city\", \"Single youth\", \"Suburban youth\" and \"Young urban have-nots\" have a zero number of caravan policies even though the number of customers is less compared to other subtypes."
   ]
  },
  {
   "cell_type": "markdown",
   "metadata": {},
   "source": [
    "### Plotting the Average Age with the number of caravan policies\n",
    "\n",
    "Let's observe how the average age of changed the customer decision of purchasing a caravan policy."
   ]
  },
  {
   "cell_type": "code",
   "execution_count": 89,
   "metadata": {},
   "outputs": [
    {
     "data": {},
     "metadata": {},
     "output_type": "display_data"
    },
    {
     "data": {
      "image/png": "[encoded data removed]",
      "text/plain": [
       "plot without title"
      ]
     },
     "metadata": {},
     "output_type": "display_data"
    }
   ],
   "source": [
    "#Plot of average age vs caravan policy\n",
    "ggplot(trainData, aes(factor(V4))) + geom_bar(aes(fill = V86)) +\n",
    "labs(y = \"Number of Customers\", x = \"Avergae Age\", title = \"Customer average age Vs Caravan Policy\")"
   ]
  },
  {
   "cell_type": "markdown",
   "metadata": {},
   "source": [
    "#### Insights from plot\n",
    "\n",
    "We can see an approximate normal distribution for the average age column. Customers who are in an age group of 40-50 years has the most number of caravan policies and the customers in age groups 20-20 and 70-80 has absolute zero customers with caravan insurance policies. This can be true in general but there can always be exceptions.  "
   ]
  },
  {
   "cell_type": "markdown",
   "metadata": {},
   "source": [
    "All the above variable are from the socio demographic attribute of a customer. Let's consider some of the factors from the product ownership of the customers. In general sense number of car insurance policies, number of fire insurances policies, number of life insurance policies and number of third party insurances might have an impact on the customer purchasing a caravan policy. But we need to explore in detail about all these. The following sections show the same. For all the below plots we are gonna subset only the customers who purchased a caravan insurance policy."
   ]
  },
  {
   "cell_type": "markdown",
   "metadata": {},
   "source": [
    "### Plotting the number of motor vehicle policies with caravan policies\n",
    "\n",
    "Let's see how the distribution of customers vehicle insurance policies is affecting the customers' caravan insurance purchase policy. Here all the vehicle insurances (car + delivery van + motorcycle/scooter + lorry + trailer + tractor + agriculture machines + moped) are added up "
   ]
  },
  {
   "cell_type": "code",
   "execution_count": 101,
   "metadata": {
    "collapsed": true
   },
   "outputs": [],
   "source": [
    "trainData$vehicles = trainData$V68+trainData$V69+trainData$V70+\n",
    "trainData$V71+trainData$V72+trainData$V73+trainData$V74+trainData$V75"
   ]
  },
  {
   "cell_type": "code",
   "execution_count": 112,
   "metadata": {},
   "outputs": [
    {
     "data": {},
     "metadata": {},
     "output_type": "display_data"
    },
    {
     "data": {
      "image/png": "[encoded data removed]",
      "text/plain": [
       "plot without title"
      ]
     },
     "metadata": {},
     "output_type": "display_data"
    }
   ],
   "source": [
    "#Plot of number of car policies vs caravan policy\n",
    "ggplot(trainData[trainData$V86==1,], aes(vehicles)) + geom_bar(fill = \"#E69F00\") +\n",
    "labs(y = \"Number of Customers\", x = \"Number of Vehicle Policies\", title = \"Vehicle Policies Vs Caravan Policy\")"
   ]
  },
  {
   "cell_type": "markdown",
   "metadata": {},
   "source": [
    "#### Insights from the plot\n",
    "The customers with 1 vehicle policy are most among all the customers. A caravan policy is purchased most by customers with a with 1 vehicle insurance policy followed by customers with 0 vehicle insurance policy. This is an interesting insight because a customer without a vehicle insurance policy owns a caravan insurance policy."
   ]
  },
  {
   "cell_type": "markdown",
   "metadata": {},
   "source": [
    "### Plotting the number of life insurance policies with caravan insurance policy\n",
    "\n"
   ]
  },
  {
   "cell_type": "code",
   "execution_count": 114,
   "metadata": {},
   "outputs": [
    {
     "data": {},
     "metadata": {},
     "output_type": "display_data"
    },
    {
     "data": {
      "image/png": "[encoded data removed]",
      "text/plain": [
       "plot without title"
      ]
     },
     "metadata": {},
     "output_type": "display_data"
    }
   ],
   "source": [
    "#Plot of average age vs caravan policy\n",
    "ggplot(trainData[trainData$V86==1,], aes(V76)) + geom_bar(fill = \"light blue\") +\n",
    "labs(y = \"Number of Customers\", x = \"Number of Life Insurance Policies\", title = \"Life Insurance Policy Vs Caravan Policy\")"
   ]
  },
  {
   "cell_type": "markdown",
   "metadata": {},
   "source": [
    "#### Insights from the plot\n",
    "\n",
    "Customers without any life insurance policy the ones with the highest number of a caravan insurance policy. This is also an actionable observation which can be used."
   ]
  },
  {
   "cell_type": "markdown",
   "metadata": {},
   "source": [
    "### Plotting the number of fire insurance policy with caravan policy\n",
    "\n",
    "Now we can plot the customers' fire insurance policies with the purchase of caravan policy. "
   ]
  },
  {
   "cell_type": "code",
   "execution_count": 113,
   "metadata": {},
   "outputs": [
    {
     "data": {},
     "metadata": {},
     "output_type": "display_data"
    },
    {
     "data": {
      "image/png": "[encoded data removed]",
      "text/plain": [
       "plot without title"
      ]
     },
     "metadata": {},
     "output_type": "display_data"
    }
   ],
   "source": [
    "#Plot of average age vs caravan policy\n",
    "ggplot(trainData[trainData$V86==1,], aes(V80)) + geom_bar(fill = \"#56B4E9\") +\n",
    "labs(y = \"Number of Customers\", x = \"Number of fire Insurance Policies\", title = \"Fire Insurance Policy Vs Caravan Policy\")"
   ]
  },
  {
   "cell_type": "markdown",
   "metadata": {},
   "source": [
    "#### Insights from the plot\n",
    "\n",
    "We can see that most customers with 1 fire insurance policy have purchased a caravan insurance policy. But the number of customers with a caravan insurance policy without a fire insurance policy is also significant."
   ]
  },
  {
   "cell_type": "markdown",
   "metadata": {},
   "source": [
    "## Model Development\n",
    "\n"
   ]
  },
  {
   "cell_type": "markdown",
   "metadata": {},
   "source": [
    "As the initial step we need to reduce the available predictors by using some methods so that we end up with a set of most significant variables which can be used to develop the models that we want. We can calculate the variance of all the columns of the training data and can eliminate the columns with a variance that is close to 0 or 0. The variables that have a low variance are not only non-informative, they can even break the model that we are trying to fit for the data that we have. Hence the variables that have variance greater than 0.01 are selected as variables for the next steps."
   ]
  },
  {
   "cell_type": "code",
   "execution_count": 116,
   "metadata": {},
   "outputs": [
    {
     "name": "stderr",
     "output_type": "stream",
     "text": [
      "Warning message in FUN(X[[i]], ...):\n",
      "\"Calling var(x) on a factor x is deprecated and will become an error.\n",
      "  Use something like 'all(duplicated(x)[-1L])' to test for a constant vector.\""
     ]
    },
    {
     "data": {
      "text/html": [
       "<table>\n",
       "<thead><tr><th></th><th scope=col>variance</th><th scope=col>variables</th></tr></thead>\n",
       "<tbody>\n",
       "\t<tr><th scope=row>V1</th><td>165.0378474</td><td>V1         </td></tr>\n",
       "\t<tr><th scope=row>V2</th><td>  0.1647078</td><td>V2         </td></tr>\n",
       "\t<tr><th scope=row>V3</th><td>  0.6238386</td><td>V3         </td></tr>\n",
       "\t<tr><th scope=row>V4</th><td>  0.6635549</td><td>V4         </td></tr>\n",
       "\t<tr><th scope=row>V5</th><td>  8.1610767</td><td>V5         </td></tr>\n",
       "\t<tr><th scope=row>V6</th><td>  1.0064780</td><td>V6         </td></tr>\n",
       "</tbody>\n",
       "</table>\n"
      ],
      "text/latex": [
       "\\begin{tabular}{r|ll}\n",
       "  & variance & variables\\\\\n",
       "\\hline\n",
       "\tV1 & 165.0378474 & V1         \\\\\n",
       "\tV2 &   0.1647078 & V2         \\\\\n",
       "\tV3 &   0.6238386 & V3         \\\\\n",
       "\tV4 &   0.6635549 & V4         \\\\\n",
       "\tV5 &   8.1610767 & V5         \\\\\n",
       "\tV6 &   1.0064780 & V6         \\\\\n",
       "\\end{tabular}\n"
      ],
      "text/markdown": [
       "\n",
       "| <!--/--> | variance | variables | \n",
       "|---|---|---|---|---|---|\n",
       "| V1 | 165.0378474 | V1          | \n",
       "| V2 |   0.1647078 | V2          | \n",
       "| V3 |   0.6238386 | V3          | \n",
       "| V4 |   0.6635549 | V4          | \n",
       "| V5 |   8.1610767 | V5          | \n",
       "| V6 |   1.0064780 | V6          | \n",
       "\n",
       "\n"
      ],
      "text/plain": [
       "   variance    variables\n",
       "V1 165.0378474 V1       \n",
       "V2   0.1647078 V2       \n",
       "V3   0.6238386 V3       \n",
       "V4   0.6635549 V4       \n",
       "V5   8.1610767 V5       \n",
       "V6   1.0064780 V6       "
      ]
     },
     "metadata": {},
     "output_type": "display_data"
    }
   ],
   "source": [
    "#Calculating the varaince of the columns\n",
    "var_df = as.data.frame(sapply(trainData[,-ncol(trainData)], var))\n",
    "#Changing the column names of data frame\n",
    "colnames(var_df) = c('variance')\n",
    "\n",
    "#Adding a new column \n",
    "var_df$variables = rownames(var_df)\n",
    "#Prinitng few rows of the data frame\n",
    "head(var_df)"
   ]
  },
  {
   "cell_type": "code",
   "execution_count": 118,
   "metadata": {
    "collapsed": true
   },
   "outputs": [],
   "source": [
    "#var_df1 <- var_df[order(var_df$variance),]\n",
    "var_df2 = var_df[var_df$variance>0.01,]\n",
    "variables_1 = var_df2$variables\n",
    "variables_1 = c(variables_1,\"V86\")"
   ]
  },
  {
   "cell_type": "code",
   "execution_count": 133,
   "metadata": {},
   "outputs": [
    {
     "data": {
      "text/html": [
       "<ol class=list-inline>\n",
       "\t<li>'V1'</li>\n",
       "\t<li>'V2'</li>\n",
       "\t<li>'V3'</li>\n",
       "\t<li>'V4'</li>\n",
       "\t<li>'V5'</li>\n",
       "\t<li>'V6'</li>\n",
       "\t<li>'V7'</li>\n",
       "\t<li>'V8'</li>\n",
       "\t<li>'V9'</li>\n",
       "\t<li>'V10'</li>\n",
       "\t<li>'V11'</li>\n",
       "\t<li>'V12'</li>\n",
       "\t<li>'V13'</li>\n",
       "\t<li>'V14'</li>\n",
       "\t<li>'V15'</li>\n",
       "\t<li>'V16'</li>\n",
       "\t<li>'V17'</li>\n",
       "\t<li>'V18'</li>\n",
       "\t<li>'V19'</li>\n",
       "\t<li>'V20'</li>\n",
       "\t<li>'V21'</li>\n",
       "\t<li>'V22'</li>\n",
       "\t<li>'V23'</li>\n",
       "\t<li>'V24'</li>\n",
       "\t<li>'V25'</li>\n",
       "\t<li>'V26'</li>\n",
       "\t<li>'V27'</li>\n",
       "\t<li>'V28'</li>\n",
       "\t<li>'V29'</li>\n",
       "\t<li>'V30'</li>\n",
       "\t<li>'V31'</li>\n",
       "\t<li>'V32'</li>\n",
       "\t<li>'V33'</li>\n",
       "\t<li>'V34'</li>\n",
       "\t<li>'V35'</li>\n",
       "\t<li>'V36'</li>\n",
       "\t<li>'V37'</li>\n",
       "\t<li>'V38'</li>\n",
       "\t<li>'V39'</li>\n",
       "\t<li>'V40'</li>\n",
       "\t<li>'V41'</li>\n",
       "\t<li>'V42'</li>\n",
       "\t<li>'V43'</li>\n",
       "\t<li>'V44'</li>\n",
       "\t<li>'V45'</li>\n",
       "\t<li>'V46'</li>\n",
       "\t<li>'V47'</li>\n",
       "\t<li>'V48'</li>\n",
       "\t<li>'V49'</li>\n",
       "\t<li>'V50'</li>\n",
       "\t<li>'V51'</li>\n",
       "\t<li>'V52'</li>\n",
       "\t<li>'V53'</li>\n",
       "\t<li>'V54'</li>\n",
       "\t<li>'V55'</li>\n",
       "\t<li>'V56'</li>\n",
       "\t<li>'V57'</li>\n",
       "\t<li>'V58'</li>\n",
       "\t<li>'V59'</li>\n",
       "\t<li>'V61'</li>\n",
       "\t<li>'V62'</li>\n",
       "\t<li>'V63'</li>\n",
       "\t<li>'V64'</li>\n",
       "\t<li>'V65'</li>\n",
       "\t<li>'V66'</li>\n",
       "\t<li>'V67'</li>\n",
       "\t<li>'V68'</li>\n",
       "\t<li>'V69'</li>\n",
       "\t<li>'V70'</li>\n",
       "\t<li>'V72'</li>\n",
       "\t<li>'V73'</li>\n",
       "\t<li>'V74'</li>\n",
       "\t<li>'V75'</li>\n",
       "\t<li>'V76'</li>\n",
       "\t<li>'V80'</li>\n",
       "\t<li>'V83'</li>\n",
       "\t<li>'V85'</li>\n",
       "\t<li>'V86'</li>\n",
       "</ol>\n"
      ],
      "text/latex": [
       "\\begin{enumerate*}\n",
       "\\item 'V1'\n",
       "\\item 'V2'\n",
       "\\item 'V3'\n",
       "\\item 'V4'\n",
       "\\item 'V5'\n",
       "\\item 'V6'\n",
       "\\item 'V7'\n",
       "\\item 'V8'\n",
       "\\item 'V9'\n",
       "\\item 'V10'\n",
       "\\item 'V11'\n",
       "\\item 'V12'\n",
       "\\item 'V13'\n",
       "\\item 'V14'\n",
       "\\item 'V15'\n",
       "\\item 'V16'\n",
       "\\item 'V17'\n",
       "\\item 'V18'\n",
       "\\item 'V19'\n",
       "\\item 'V20'\n",
       "\\item 'V21'\n",
       "\\item 'V22'\n",
       "\\item 'V23'\n",
       "\\item 'V24'\n",
       "\\item 'V25'\n",
       "\\item 'V26'\n",
       "\\item 'V27'\n",
       "\\item 'V28'\n",
       "\\item 'V29'\n",
       "\\item 'V30'\n",
       "\\item 'V31'\n",
       "\\item 'V32'\n",
       "\\item 'V33'\n",
       "\\item 'V34'\n",
       "\\item 'V35'\n",
       "\\item 'V36'\n",
       "\\item 'V37'\n",
       "\\item 'V38'\n",
       "\\item 'V39'\n",
       "\\item 'V40'\n",
       "\\item 'V41'\n",
       "\\item 'V42'\n",
       "\\item 'V43'\n",
       "\\item 'V44'\n",
       "\\item 'V45'\n",
       "\\item 'V46'\n",
       "\\item 'V47'\n",
       "\\item 'V48'\n",
       "\\item 'V49'\n",
       "\\item 'V50'\n",
       "\\item 'V51'\n",
       "\\item 'V52'\n",
       "\\item 'V53'\n",
       "\\item 'V54'\n",
       "\\item 'V55'\n",
       "\\item 'V56'\n",
       "\\item 'V57'\n",
       "\\item 'V58'\n",
       "\\item 'V59'\n",
       "\\item 'V61'\n",
       "\\item 'V62'\n",
       "\\item 'V63'\n",
       "\\item 'V64'\n",
       "\\item 'V65'\n",
       "\\item 'V66'\n",
       "\\item 'V67'\n",
       "\\item 'V68'\n",
       "\\item 'V69'\n",
       "\\item 'V70'\n",
       "\\item 'V72'\n",
       "\\item 'V73'\n",
       "\\item 'V74'\n",
       "\\item 'V75'\n",
       "\\item 'V76'\n",
       "\\item 'V80'\n",
       "\\item 'V83'\n",
       "\\item 'V85'\n",
       "\\item 'V86'\n",
       "\\end{enumerate*}\n"
      ],
      "text/markdown": [
       "1. 'V1'\n",
       "2. 'V2'\n",
       "3. 'V3'\n",
       "4. 'V4'\n",
       "5. 'V5'\n",
       "6. 'V6'\n",
       "7. 'V7'\n",
       "8. 'V8'\n",
       "9. 'V9'\n",
       "10. 'V10'\n",
       "11. 'V11'\n",
       "12. 'V12'\n",
       "13. 'V13'\n",
       "14. 'V14'\n",
       "15. 'V15'\n",
       "16. 'V16'\n",
       "17. 'V17'\n",
       "18. 'V18'\n",
       "19. 'V19'\n",
       "20. 'V20'\n",
       "21. 'V21'\n",
       "22. 'V22'\n",
       "23. 'V23'\n",
       "24. 'V24'\n",
       "25. 'V25'\n",
       "26. 'V26'\n",
       "27. 'V27'\n",
       "28. 'V28'\n",
       "29. 'V29'\n",
       "30. 'V30'\n",
       "31. 'V31'\n",
       "32. 'V32'\n",
       "33. 'V33'\n",
       "34. 'V34'\n",
       "35. 'V35'\n",
       "36. 'V36'\n",
       "37. 'V37'\n",
       "38. 'V38'\n",
       "39. 'V39'\n",
       "40. 'V40'\n",
       "41. 'V41'\n",
       "42. 'V42'\n",
       "43. 'V43'\n",
       "44. 'V44'\n",
       "45. 'V45'\n",
       "46. 'V46'\n",
       "47. 'V47'\n",
       "48. 'V48'\n",
       "49. 'V49'\n",
       "50. 'V50'\n",
       "51. 'V51'\n",
       "52. 'V52'\n",
       "53. 'V53'\n",
       "54. 'V54'\n",
       "55. 'V55'\n",
       "56. 'V56'\n",
       "57. 'V57'\n",
       "58. 'V58'\n",
       "59. 'V59'\n",
       "60. 'V61'\n",
       "61. 'V62'\n",
       "62. 'V63'\n",
       "63. 'V64'\n",
       "64. 'V65'\n",
       "65. 'V66'\n",
       "66. 'V67'\n",
       "67. 'V68'\n",
       "68. 'V69'\n",
       "69. 'V70'\n",
       "70. 'V72'\n",
       "71. 'V73'\n",
       "72. 'V74'\n",
       "73. 'V75'\n",
       "74. 'V76'\n",
       "75. 'V80'\n",
       "76. 'V83'\n",
       "77. 'V85'\n",
       "78. 'V86'\n",
       "\n",
       "\n"
      ],
      "text/plain": [
       " [1] \"V1\"  \"V2\"  \"V3\"  \"V4\"  \"V5\"  \"V6\"  \"V7\"  \"V8\"  \"V9\"  \"V10\" \"V11\" \"V12\"\n",
       "[13] \"V13\" \"V14\" \"V15\" \"V16\" \"V17\" \"V18\" \"V19\" \"V20\" \"V21\" \"V22\" \"V23\" \"V24\"\n",
       "[25] \"V25\" \"V26\" \"V27\" \"V28\" \"V29\" \"V30\" \"V31\" \"V32\" \"V33\" \"V34\" \"V35\" \"V36\"\n",
       "[37] \"V37\" \"V38\" \"V39\" \"V40\" \"V41\" \"V42\" \"V43\" \"V44\" \"V45\" \"V46\" \"V47\" \"V48\"\n",
       "[49] \"V49\" \"V50\" \"V51\" \"V52\" \"V53\" \"V54\" \"V55\" \"V56\" \"V57\" \"V58\" \"V59\" \"V61\"\n",
       "[61] \"V62\" \"V63\" \"V64\" \"V65\" \"V66\" \"V67\" \"V68\" \"V69\" \"V70\" \"V72\" \"V73\" \"V74\"\n",
       "[73] \"V75\" \"V76\" \"V80\" \"V83\" \"V85\" \"V86\""
      ]
     },
     "metadata": {},
     "output_type": "display_data"
    }
   ],
   "source": [
    "variables_1"
   ]
  },
  {
   "cell_type": "code",
   "execution_count": 126,
   "metadata": {},
   "outputs": [
    {
     "data": {
      "text/html": [
       "<ol class=list-inline>\n",
       "\t<li>5822</li>\n",
       "\t<li>79</li>\n",
       "</ol>\n"
      ],
      "text/latex": [
       "\\begin{enumerate*}\n",
       "\\item 5822\n",
       "\\item 79\n",
       "\\end{enumerate*}\n"
      ],
      "text/markdown": [
       "1. 5822\n",
       "2. 79\n",
       "\n",
       "\n"
      ],
      "text/plain": [
       "[1] 5822   79"
      ]
     },
     "metadata": {},
     "output_type": "display_data"
    },
    {
     "data": {
      "text/html": [
       "<table>\n",
       "<thead><tr><th scope=col>V1</th><th scope=col>V2</th><th scope=col>V3</th><th scope=col>V4</th><th scope=col>V5</th><th scope=col>V6</th><th scope=col>V7</th><th scope=col>V8</th><th scope=col>V9</th><th scope=col>V10</th><th scope=col>...</th><th scope=col>V72</th><th scope=col>V73</th><th scope=col>V74</th><th scope=col>V75</th><th scope=col>V76</th><th scope=col>V80</th><th scope=col>V83</th><th scope=col>V85</th><th scope=col>V86</th><th scope=col>V86.1</th></tr></thead>\n",
       "<tbody>\n",
       "\t<tr><td>33 </td><td>1  </td><td>3  </td><td>2  </td><td> 8 </td><td>0  </td><td>5  </td><td>1  </td><td>3  </td><td>7  </td><td>...</td><td>0  </td><td>0  </td><td>0  </td><td>0  </td><td>0  </td><td>1  </td><td>0  </td><td>0  </td><td>0  </td><td>0  </td></tr>\n",
       "\t<tr><td>37 </td><td>1  </td><td>2  </td><td>2  </td><td> 8 </td><td>1  </td><td>4  </td><td>1  </td><td>4  </td><td>6  </td><td>...</td><td>0  </td><td>0  </td><td>0  </td><td>0  </td><td>0  </td><td>1  </td><td>0  </td><td>0  </td><td>0  </td><td>0  </td></tr>\n",
       "\t<tr><td>37 </td><td>1  </td><td>2  </td><td>2  </td><td> 8 </td><td>0  </td><td>4  </td><td>2  </td><td>4  </td><td>3  </td><td>...</td><td>0  </td><td>0  </td><td>0  </td><td>0  </td><td>0  </td><td>1  </td><td>0  </td><td>0  </td><td>0  </td><td>0  </td></tr>\n",
       "\t<tr><td> 9 </td><td>1  </td><td>3  </td><td>3  </td><td> 3 </td><td>2  </td><td>3  </td><td>2  </td><td>4  </td><td>5  </td><td>...</td><td>0  </td><td>0  </td><td>0  </td><td>0  </td><td>0  </td><td>1  </td><td>0  </td><td>0  </td><td>0  </td><td>0  </td></tr>\n",
       "\t<tr><td>40 </td><td>1  </td><td>4  </td><td>2  </td><td>10 </td><td>1  </td><td>4  </td><td>1  </td><td>4  </td><td>7  </td><td>...</td><td>0  </td><td>0  </td><td>0  </td><td>0  </td><td>0  </td><td>1  </td><td>0  </td><td>0  </td><td>0  </td><td>0  </td></tr>\n",
       "\t<tr><td>23 </td><td>1  </td><td>2  </td><td>1  </td><td> 5 </td><td>0  </td><td>5  </td><td>0  </td><td>5  </td><td>0  </td><td>...</td><td>0  </td><td>0  </td><td>0  </td><td>0  </td><td>0  </td><td>0  </td><td>0  </td><td>0  </td><td>0  </td><td>0  </td></tr>\n",
       "</tbody>\n",
       "</table>\n"
      ],
      "text/latex": [
       "\\begin{tabular}{r|lllllllllllllllllllllllllllllllllllllllllllllllllllllllllllllllllllllllllllllll}\n",
       " V1 & V2 & V3 & V4 & V5 & V6 & V7 & V8 & V9 & V10 & ... & V72 & V73 & V74 & V75 & V76 & V80 & V83 & V85 & V86 & V86.1\\\\\n",
       "\\hline\n",
       "\t 33  & 1   & 3   & 2   &  8  & 0   & 5   & 1   & 3   & 7   & ... & 0   & 0   & 0   & 0   & 0   & 1   & 0   & 0   & 0   & 0  \\\\\n",
       "\t 37  & 1   & 2   & 2   &  8  & 1   & 4   & 1   & 4   & 6   & ... & 0   & 0   & 0   & 0   & 0   & 1   & 0   & 0   & 0   & 0  \\\\\n",
       "\t 37  & 1   & 2   & 2   &  8  & 0   & 4   & 2   & 4   & 3   & ... & 0   & 0   & 0   & 0   & 0   & 1   & 0   & 0   & 0   & 0  \\\\\n",
       "\t  9  & 1   & 3   & 3   &  3  & 2   & 3   & 2   & 4   & 5   & ... & 0   & 0   & 0   & 0   & 0   & 1   & 0   & 0   & 0   & 0  \\\\\n",
       "\t 40  & 1   & 4   & 2   & 10  & 1   & 4   & 1   & 4   & 7   & ... & 0   & 0   & 0   & 0   & 0   & 1   & 0   & 0   & 0   & 0  \\\\\n",
       "\t 23  & 1   & 2   & 1   &  5  & 0   & 5   & 0   & 5   & 0   & ... & 0   & 0   & 0   & 0   & 0   & 0   & 0   & 0   & 0   & 0  \\\\\n",
       "\\end{tabular}\n"
      ],
      "text/markdown": [
       "\n",
       "V1 | V2 | V3 | V4 | V5 | V6 | V7 | V8 | V9 | V10 | ... | V72 | V73 | V74 | V75 | V76 | V80 | V83 | V85 | V86 | V86.1 | \n",
       "|---|---|---|---|---|---|\n",
       "| 33  | 1   | 3   | 2   |  8  | 0   | 5   | 1   | 3   | 7   | ... | 0   | 0   | 0   | 0   | 0   | 1   | 0   | 0   | 0   | 0   | \n",
       "| 37  | 1   | 2   | 2   |  8  | 1   | 4   | 1   | 4   | 6   | ... | 0   | 0   | 0   | 0   | 0   | 1   | 0   | 0   | 0   | 0   | \n",
       "| 37  | 1   | 2   | 2   |  8  | 0   | 4   | 2   | 4   | 3   | ... | 0   | 0   | 0   | 0   | 0   | 1   | 0   | 0   | 0   | 0   | \n",
       "|  9  | 1   | 3   | 3   |  3  | 2   | 3   | 2   | 4   | 5   | ... | 0   | 0   | 0   | 0   | 0   | 1   | 0   | 0   | 0   | 0   | \n",
       "| 40  | 1   | 4   | 2   | 10  | 1   | 4   | 1   | 4   | 7   | ... | 0   | 0   | 0   | 0   | 0   | 1   | 0   | 0   | 0   | 0   | \n",
       "| 23  | 1   | 2   | 1   |  5  | 0   | 5   | 0   | 5   | 0   | ... | 0   | 0   | 0   | 0   | 0   | 0   | 0   | 0   | 0   | 0   | \n",
       "\n",
       "\n"
      ],
      "text/plain": [
       "  V1 V2 V3 V4 V5 V6 V7 V8 V9 V10 ... V72 V73 V74 V75 V76 V80 V83 V85 V86 V86.1\n",
       "1 33 1  3  2   8 0  5  1  3  7   ... 0   0   0   0   0   1   0   0   0   0    \n",
       "2 37 1  2  2   8 1  4  1  4  6   ... 0   0   0   0   0   1   0   0   0   0    \n",
       "3 37 1  2  2   8 0  4  2  4  3   ... 0   0   0   0   0   1   0   0   0   0    \n",
       "4  9 1  3  3   3 2  3  2  4  5   ... 0   0   0   0   0   1   0   0   0   0    \n",
       "5 40 1  4  2  10 1  4  1  4  7   ... 0   0   0   0   0   1   0   0   0   0    \n",
       "6 23 1  2  1   5 0  5  0  5  0   ... 0   0   0   0   0   0   0   0   0   0    "
      ]
     },
     "metadata": {},
     "output_type": "display_data"
    }
   ],
   "source": [
    "#Selecting the required variables\n",
    "trainData = trainData[,variables_1]\n",
    "\n",
    "dim(trainData)  #Dimensions of the data frame\n",
    "head(trainData)"
   ]
  },
  {
   "cell_type": "markdown",
   "metadata": {},
   "source": [
    "### Stepwise variable selection\n",
    "\n",
    "The process of selecting a subset of predictors(variables) that we believe have a strong association with the target variable is known as Subset Selection. As the number of columns in the dataset are 77 apart from target variable, seeing the relationship between each variable with the target would be an hideous task. It would be a good practice to select a subset of variables that would be probably influencing the customer decision of buying a caravan insurance policy. Various methods can be used to get a subset of variables. But I have selected the stepAIC function that is provided by package \"MASS\" which is gives a subset of variables using the AIC values. "
   ]
  },
  {
   "cell_type": "code",
   "execution_count": 127,
   "metadata": {},
   "outputs": [
    {
     "name": "stderr",
     "output_type": "stream",
     "text": [
      "Warning message:\n",
      "\"attempting model selection on an essentially perfect fit is nonsense\"Warning message:\n",
      "\"attempting model selection on an essentially perfect fit is nonsense\"Warning message:\n",
      "\"attempting model selection on an essentially perfect fit is nonsense\"Warning message:\n",
      "\"attempting model selection on an essentially perfect fit is nonsense\"Warning message:\n",
      "\"attempting model selection on an essentially perfect fit is nonsense\"Warning message:\n",
      "\"attempting model selection on an essentially perfect fit is nonsense\"Warning message:\n",
      "\"attempting model selection on an essentially perfect fit is nonsense\"Warning message in summary.lm(step.model):\n",
      "\"essentially perfect fit: summary may be unreliable\""
     ]
    },
    {
     "data": {
      "text/plain": [
       "\n",
       "Call:\n",
       "lm(formula = V86 ~ V1 + V2 + V3 + V4 + V5 + V6 + V7 + V8 + V9 + \n",
       "    V10 + V11 + V12 + V13 + V14 + V15 + V16 + V17 + V18 + V19 + \n",
       "    V20 + V21 + V22 + V23 + V24 + V25 + V26 + V27 + V28 + V29 + \n",
       "    V30 + V31 + V32 + V33 + V35 + V36 + V37 + V38 + V39 + V40 + \n",
       "    V41 + V42 + V44 + V45 + V46 + V47 + V48 + V49 + V50 + V51 + \n",
       "    V52 + V53 + V54 + V55 + V56 + V57 + V58 + V59 + V61 + V62 + \n",
       "    V63 + V64 + V65 + V66 + V67 + V68 + V69 + V70 + V72 + V73 + \n",
       "    V74 + V75 + V76 + V80 + V83 + V85 + V86.1 + V43, data = train_data_1)\n",
       "\n",
       "Residuals:\n",
       "       Min         1Q     Median         3Q        Max \n",
       "-1.630e-16 -4.080e-19  4.670e-19  1.296e-18  1.048e-16 \n",
       "\n",
       "Coefficients:\n",
       "              Estimate Std. Error    t value Pr(>|t|)    \n",
       "(Intercept)  2.308e-16  1.524e-17  1.514e+01  < 2e-16 ***\n",
       "V1           6.986e-19  8.028e-20  8.701e+00  < 2e-16 ***\n",
       "V2          -2.268e-18  2.735e-19 -8.291e+00  < 2e-16 ***\n",
       "V3          -9.684e-19  2.557e-19 -3.788e+00 0.000154 ***\n",
       "V4           1.817e-18  1.769e-19  1.027e+01  < 2e-16 ***\n",
       "V5          -3.138e-18  3.604e-19 -8.707e+00  < 2e-16 ***\n",
       "V6          -1.544e-18  1.992e-19 -7.750e+00 1.08e-14 ***\n",
       "V7          -5.836e-19  2.160e-19 -2.702e+00 0.006907 ** \n",
       "V8          -2.566e-19  1.936e-19 -1.325e+00 0.185084    \n",
       "V9          -8.184e-19  2.064e-19 -3.966e+00 7.39e-05 ***\n",
       "V10          2.194e-18  2.687e-19  8.164e+00 3.95e-16 ***\n",
       "V11          8.396e-19  2.560e-19  3.280e+00 0.001045 ** \n",
       "V12          1.326e-18  2.703e-19  4.907e+00 9.52e-07 ***\n",
       "V13         -5.652e-19  2.334e-19 -2.422e+00 0.015482 *  \n",
       "V14         -9.450e-19  2.383e-19 -3.965e+00 7.43e-05 ***\n",
       "V15         -4.099e-19  2.487e-19 -1.648e+00 0.099376 .  \n",
       "V16          3.022e-19  2.430e-19  1.243e+00 0.213773    \n",
       "V17         -1.306e-18  2.545e-19 -5.130e+00 2.99e-07 ***\n",
       "V18         -2.438e-18  2.604e-19 -9.365e+00  < 2e-16 ***\n",
       "V19          2.945e-19  1.606e-19  1.834e+00 0.066768 .  \n",
       "V20         -2.814e-19  1.858e-19 -1.514e+00 0.130068    \n",
       "V21         -9.304e-19  1.796e-19 -5.180e+00 2.29e-07 ***\n",
       "V22          7.901e-19  1.593e-19  4.959e+00 7.30e-07 ***\n",
       "V23         -1.983e-19  1.588e-19 -1.248e+00 0.211974    \n",
       "V24          4.612e-19  1.584e-19  2.911e+00 0.003613 ** \n",
       "V25         -2.372e-19  1.841e-19 -1.289e+00 0.197573    \n",
       "V26         -7.958e-19  1.785e-19 -4.458e+00 8.44e-06 ***\n",
       "V27         -2.084e-19  1.596e-19 -1.306e+00 0.191775    \n",
       "V28          5.907e-19  1.750e-19  3.376e+00 0.000740 ***\n",
       "V29         -6.155e-20  1.666e-19 -3.700e-01 0.711741    \n",
       "V30         -1.182e-17  1.341e-18 -8.815e+00  < 2e-16 ***\n",
       "V31         -1.104e-17  1.340e-18 -8.238e+00  < 2e-16 ***\n",
       "V32          1.096e-18  1.042e-19  1.052e+01  < 2e-16 ***\n",
       "V33          7.998e-19  1.301e-19  6.148e+00 8.38e-10 ***\n",
       "V35         -1.600e-17  1.584e-18 -1.010e+01  < 2e-16 ***\n",
       "V36         -1.659e-17  1.582e-18 -1.049e+01  < 2e-16 ***\n",
       "V37          1.492e-18  1.821e-19  8.191e+00 3.15e-16 ***\n",
       "V38          1.412e-18  1.753e-19  8.053e+00 9.77e-16 ***\n",
       "V39          9.676e-19  1.784e-19  5.424e+00 6.08e-08 ***\n",
       "V40          9.851e-19  1.871e-19  5.265e+00 1.45e-07 ***\n",
       "V41         -1.862e-18  2.469e-19 -7.542e+00 5.33e-14 ***\n",
       "V42          1.707e-18  1.625e-19  1.051e+01  < 2e-16 ***\n",
       "V44          6.817e-18  5.922e-19  1.151e+01  < 2e-16 ***\n",
       "V45         -3.398e-18  7.291e-19 -4.660e+00 3.23e-06 ***\n",
       "V46         -5.600e-18  1.392e-18 -4.024e+00 5.79e-05 ***\n",
       "V47          1.786e-18  9.386e-20  1.903e+01  < 2e-16 ***\n",
       "V48          3.450e-19  5.257e-19  6.560e-01 0.511705    \n",
       "V49         -1.025e-18  2.832e-19 -3.619e+00 0.000298 ***\n",
       "V50         -1.782e-18  4.635e-19 -3.845e+00 0.000122 ***\n",
       "V51          8.121e-18  1.983e-18  4.095e+00 4.28e-05 ***\n",
       "V52          2.220e-18  5.050e-19  4.396e+00 1.12e-05 ***\n",
       "V53         -1.415e-18  1.289e-18 -1.098e+00 0.272228    \n",
       "V54          2.057e-18  5.450e-19  3.774e+00 0.000162 ***\n",
       "V55         -3.248e-18  2.310e-19 -1.406e+01  < 2e-16 ***\n",
       "V56         -6.956e-19  5.253e-19 -1.324e+00 0.185483    \n",
       "V57          6.335e-18  5.735e-19  1.104e+01  < 2e-16 ***\n",
       "V58          3.723e-18  2.973e-19  1.252e+01  < 2e-16 ***\n",
       "V59          3.333e-18  1.281e-19  2.601e+01  < 2e-16 ***\n",
       "V61          2.143e-17  3.995e-19  5.366e+01  < 2e-16 ***\n",
       "V62         -3.512e-18  1.956e-18 -1.795e+00 0.072720 .  \n",
       "V63         -2.048e-18  5.304e-19 -3.860e+00 0.000114 ***\n",
       "V64         -3.060e-18  1.030e-18 -2.970e+00 0.002988 ** \n",
       "V65         -6.796e-18  1.155e-18 -5.885e+00 4.20e-09 ***\n",
       "V66          6.758e-18  1.885e-18  3.585e+00 0.000340 ***\n",
       "V67          8.271e-18  4.899e-18  1.688e+00 0.091424 .  \n",
       "V68          5.913e-19  4.535e-19  1.304e+00 0.192322    \n",
       "V69         -4.948e-18  2.299e-18 -2.153e+00 0.031395 *  \n",
       "V70          3.276e-18  1.108e-18  2.956e+00 0.003125 ** \n",
       "V72         -1.215e-17  3.364e-18 -3.612e+00 0.000307 ***\n",
       "V73         -7.754e-18  1.251e-18 -6.200e+00 6.04e-10 ***\n",
       "V74          2.086e-18  2.534e-18  8.230e-01 0.410492    \n",
       "V75         -5.862e-18  1.668e-18 -3.515e+00 0.000444 ***\n",
       "V76          7.324e-18  5.494e-19  1.333e+01  < 2e-16 ***\n",
       "V80         -5.581e-18  4.138e-19 -1.349e+01  < 2e-16 ***\n",
       "V83          9.768e-18  1.454e-18  6.718e+00 2.02e-11 ***\n",
       "V85          2.373e-17  3.507e-18  6.766e+00 1.46e-11 ***\n",
       "V86.1        1.000e+00  4.698e-19  2.129e+18  < 2e-16 ***\n",
       "V43         -1.354e-19  8.080e-20 -1.676e+00 0.093883 .  \n",
       "---\n",
       "Signif. codes:  0 '***' 0.001 '**' 0.01 '*' 0.05 '.' 0.1 ' ' 1\n",
       "\n",
       "Residual standard error: 8.203e-18 on 5744 degrees of freedom\n",
       "Multiple R-squared:      1,\tAdjusted R-squared:      1 \n",
       "F-statistic: 6.315e+34 on 77 and 5744 DF,  p-value: < 2.2e-16\n"
      ]
     },
     "metadata": {},
     "output_type": "display_data"
    }
   ],
   "source": [
    "train_data = read.table('train.txt', header = FALSE)\n",
    "train_data_1 = train_data\n",
    "train_data_1 = train_data_1[,variables_1]\n",
    "#install.packages(\"MASS\")\n",
    "#train_data$V86 <- as.factor(train_data$V86)\n",
    "library(MASS)\n",
    "# Fit the full model \n",
    "full.model = lm(V86 ~., data = train_data_1)\n",
    "# Stepwise regression model\n",
    "step.model = stepAIC(full.model, direction = \"both\", trace = FALSE)\n",
    "summary(step.model)"
   ]
  },
  {
   "cell_type": "markdown",
   "metadata": {},
   "source": [
    "Using the summary of the step wise method we can select a subset of the predictors using the significance of the variables. The significance of the variables are indicated on the side of each column. The more the stars the more the significance of the predictor. The variables that have significance star are put into a vector and those columns are subsetted from the training data for the next steps. Once we extract the significant variables we need to analyse the effect of these variables on the response variable."
   ]
  },
  {
   "cell_type": "code",
   "execution_count": 128,
   "metadata": {},
   "outputs": [
    {
     "data": {
      "text/html": [
       "16"
      ],
      "text/latex": [
       "16"
      ],
      "text/markdown": [
       "16"
      ],
      "text/plain": [
       "[1] 16"
      ]
     },
     "metadata": {},
     "output_type": "display_data"
    }
   ],
   "source": [
    "#Vector of significant variables\n",
    "significant_variables = c('V4','V10','V17','V18','V41','V44','V46','V47','V55','V58','V59','V61','V76','V83','V85','V86')\n",
    "length(significant_variables)"
   ]
  },
  {
   "cell_type": "code",
   "execution_count": 129,
   "metadata": {
    "scrolled": false
   },
   "outputs": [
    {
     "data": {},
     "metadata": {},
     "output_type": "display_data"
    },
    {
     "data": {
      "image/png": "[encoded data removed]",
      "text/plain": [
       "plot without title"
      ]
     },
     "metadata": {},
     "output_type": "display_data"
    }
   ],
   "source": [
    "#install.packages(\"lattice\")\n",
    "new_train_data_1 = train_data_1[,significant_variables]\n",
    "library(lattice)\n",
    "#Plotting the correlation of the significant variables\n",
    "levelplot(cor(new_train_data_1[,-ncol(new_train_data_1)]))"
   ]
  },
  {
   "cell_type": "markdown",
   "metadata": {},
   "source": [
    "### Check for Collinearity\n",
    "\n",
    "Among the selected variables we need to observe if there is any collinearity. We can use the ols_vif_tol method of \"olsrr\" to find the variance inflation factor and tolerance for each variable that we selected. The higher the inflation factor value the higher the correlation with the other variables.  "
   ]
  },
  {
   "cell_type": "code",
   "execution_count": 131,
   "metadata": {},
   "outputs": [
    {
     "name": "stderr",
     "output_type": "stream",
     "text": [
      "Warning message:\n",
      "\"package 'olsrr' was built under R version 3.4.4\""
     ]
    },
    {
     "ename": "ERROR",
     "evalue": "Error: package or namespace load failed for 'olsrr' in loadNamespace(j <- i[[1L]], c(lib.loc, .libPaths()), versionCheck = vI[[j]]):\n namespace 'recipes' 0.1.1 is being loaded, but >= 0.1.4 is required\n",
     "output_type": "error",
     "traceback": [
      "Error: package or namespace load failed for 'olsrr' in loadNamespace(j <- i[[1L]], c(lib.loc, .libPaths()), versionCheck = vI[[j]]):\n namespace 'recipes' 0.1.1 is being loaded, but >= 0.1.4 is required\nTraceback:\n",
      "1. library(olsrr)",
      "2. tryCatch({\n .     attr(package, \"LibPath\") <- which.lib.loc\n .     ns <- loadNamespace(package, lib.loc)\n .     env <- attachNamespace(ns, pos = pos, deps)\n . }, error = function(e) {\n .     P <- if (!is.null(cc <- conditionCall(e))) \n .         paste(\" in\", deparse(cc)[1L])\n .     else \"\"\n .     msg <- gettextf(\"package or namespace load failed for %s%s:\\n %s\", \n .         sQuote(package), P, conditionMessage(e))\n .     if (logical.return) \n .         message(paste(\"Error:\", msg), domain = NA)\n .     else stop(msg, call. = FALSE, domain = NA)\n . })",
      "3. tryCatchList(expr, classes, parentenv, handlers)",
      "4. tryCatchOne(expr, names, parentenv, handlers[[1L]])",
      "5. value[[3L]](cond)",
      "6. stop(msg, call. = FALSE, domain = NA)"
     ]
    }
   ],
   "source": [
    "library(olsrr)\n",
    "#cor(new_train_data)\n",
    "fit.log = lm(V86 ~ ., data = new_train_data_1)\n",
    "#summary(fit.log)\n",
    "ols_vif_tol(fit.log)"
   ]
  },
  {
   "cell_type": "markdown",
   "metadata": {},
   "source": [
    "For all the varaiables with high VIF value we need to check if there is any correlation. Below are the correaltion matrices for the variables that show a high VIF value.  "
   ]
  },
  {
   "cell_type": "code",
   "execution_count": 139,
   "metadata": {},
   "outputs": [
    {
     "data": {
      "text/html": [
       "<table>\n",
       "<thead><tr><th></th><th scope=col>V55</th><th scope=col>V76</th></tr></thead>\n",
       "<tbody>\n",
       "\t<tr><th scope=row>V55</th><td>1.0000000</td><td>0.8501711</td></tr>\n",
       "\t<tr><th scope=row>V76</th><td>0.8501711</td><td>1.0000000</td></tr>\n",
       "</tbody>\n",
       "</table>\n"
      ],
      "text/latex": [
       "\\begin{tabular}{r|ll}\n",
       "  & V55 & V76\\\\\n",
       "\\hline\n",
       "\tV55 & 1.0000000 & 0.8501711\\\\\n",
       "\tV76 & 0.8501711 & 1.0000000\\\\\n",
       "\\end{tabular}\n"
      ],
      "text/markdown": [
       "\n",
       "| <!--/--> | V55 | V76 | \n",
       "|---|---|\n",
       "| V55 | 1.0000000 | 0.8501711 | \n",
       "| V76 | 0.8501711 | 1.0000000 | \n",
       "\n",
       "\n"
      ],
      "text/plain": [
       "    V55       V76      \n",
       "V55 1.0000000 0.8501711\n",
       "V76 0.8501711 1.0000000"
      ]
     },
     "metadata": {},
     "output_type": "display_data"
    },
    {
     "data": {
      "text/html": [
       "<table>\n",
       "<thead><tr><th></th><th scope=col>V17</th><th scope=col>V18</th></tr></thead>\n",
       "<tbody>\n",
       "\t<tr><th scope=row>V17</th><td> 1.0000000</td><td>-0.7475816</td></tr>\n",
       "\t<tr><th scope=row>V18</th><td>-0.7475816</td><td> 1.0000000</td></tr>\n",
       "</tbody>\n",
       "</table>\n"
      ],
      "text/latex": [
       "\\begin{tabular}{r|ll}\n",
       "  & V17 & V18\\\\\n",
       "\\hline\n",
       "\tV17 &  1.0000000 & -0.7475816\\\\\n",
       "\tV18 & -0.7475816 &  1.0000000\\\\\n",
       "\\end{tabular}\n"
      ],
      "text/markdown": [
       "\n",
       "| <!--/--> | V17 | V18 | \n",
       "|---|---|\n",
       "| V17 |  1.0000000 | -0.7475816 | \n",
       "| V18 | -0.7475816 |  1.0000000 | \n",
       "\n",
       "\n"
      ],
      "text/plain": [
       "    V17        V18       \n",
       "V17  1.0000000 -0.7475816\n",
       "V18 -0.7475816  1.0000000"
      ]
     },
     "metadata": {},
     "output_type": "display_data"
    }
   ],
   "source": [
    "#Finding the correlation between the columns\n",
    "cor(new_train_data_1[,c(\"V55\",\"V76\")])\n",
    "\n",
    "cor(new_train_data_1[,c(\"V17\",\"V18\")])"
   ]
  },
  {
   "cell_type": "markdown",
   "metadata": {},
   "source": [
    "The columns V55 and V76, V17 and V18 are having high correlation value with each other. V55 and V76 represent the contribution to life insurances and number of life insurances respectively. The collinearity is expected as they are both related to life insurance policies. We will decide which variable to be included and which has to be excluded into the final model by looking which at the variance of each column. V17 and V18 represent Middle level education and Low level education values for the customers belonging to the same zip code. Even though the correlation between this is not as strong as the before, we need to include only one variable into our final model in order to get improve your prediction accuracy. "
   ]
  },
  {
   "cell_type": "code",
   "execution_count": 140,
   "metadata": {},
   "outputs": [
    {
     "data": {
      "text/html": [
       "<dl class=dl-horizontal>\n",
       "\t<dt>V17</dt>\n",
       "\t\t<dd>3.10130318618589</dd>\n",
       "\t<dt>V18</dt>\n",
       "\t\t<dd>5.28137981205117</dd>\n",
       "\t<dt>V55</dt>\n",
       "\t\t<dd>0.80658327850376</dd>\n",
       "\t<dt>V76</dt>\n",
       "\t\t<dd>0.142558621218345</dd>\n",
       "</dl>\n"
      ],
      "text/latex": [
       "\\begin{description*}\n",
       "\\item[V17] 3.10130318618589\n",
       "\\item[V18] 5.28137981205117\n",
       "\\item[V55] 0.80658327850376\n",
       "\\item[V76] 0.142558621218345\n",
       "\\end{description*}\n"
      ],
      "text/markdown": [
       "V17\n",
       ":   3.10130318618589V18\n",
       ":   5.28137981205117V55\n",
       ":   0.80658327850376V76\n",
       ":   0.142558621218345\n",
       "\n"
      ],
      "text/plain": [
       "      V17       V18       V55       V76 \n",
       "3.1013032 5.2813798 0.8065833 0.1425586 "
      ]
     },
     "metadata": {},
     "output_type": "display_data"
    }
   ],
   "source": [
    "sapply(new_train_data_1[,c(\"V17\",\"V18\",\"V55\",\"V76\")], var) #Finding the variance of the few columns"
   ]
  },
  {
   "cell_type": "markdown",
   "metadata": {},
   "source": [
    "The variance of the columns which are having collinearity was computed in the above cell. Including the variables that are having variance is logical, as these columns gives us more information about the response variable than the ones that are having a less variance. Among Middle Level Education and Low Level Education the variable with high variance is Lowe Level Education which is V18 column in the data. Between the contribution to life insurance and number fo life insurance we can select the contribution column as the variance of that is higher. So we exclude V17 and V76 columns from our significant variables."
   ]
  },
  {
   "cell_type": "code",
   "execution_count": 179,
   "metadata": {
    "collapsed": true
   },
   "outputs": [],
   "source": [
    "#Removing V17 and V76 columns from the dataset\n",
    "new_train_data_2 = new_train_data_1[,-which(names(new_train_data_1) %in% c(\"V17\",\"V76\"))]"
   ]
  },
  {
   "cell_type": "code",
   "execution_count": 142,
   "metadata": {},
   "outputs": [
    {
     "data": {
      "text/html": [
       "<ol class=list-inline>\n",
       "\t<li>5822</li>\n",
       "\t<li>14</li>\n",
       "</ol>\n"
      ],
      "text/latex": [
       "\\begin{enumerate*}\n",
       "\\item 5822\n",
       "\\item 14\n",
       "\\end{enumerate*}\n"
      ],
      "text/markdown": [
       "1. 5822\n",
       "2. 14\n",
       "\n",
       "\n"
      ],
      "text/plain": [
       "[1] 5822   14"
      ]
     },
     "metadata": {},
     "output_type": "display_data"
    }
   ],
   "source": [
    "dim(new_train_data_2) #printing the dimensions"
   ]
  },
  {
   "cell_type": "code",
   "execution_count": 143,
   "metadata": {},
   "outputs": [
    {
     "data": {
      "text/html": [
       "<ol class=list-inline>\n",
       "\t<li>'V4'</li>\n",
       "\t<li>'V10'</li>\n",
       "\t<li>'V18'</li>\n",
       "\t<li>'V41'</li>\n",
       "\t<li>'V44'</li>\n",
       "\t<li>'V46'</li>\n",
       "\t<li>'V47'</li>\n",
       "\t<li>'V55'</li>\n",
       "\t<li>'V58'</li>\n",
       "\t<li>'V59'</li>\n",
       "\t<li>'V61'</li>\n",
       "\t<li>'V83'</li>\n",
       "\t<li>'V85'</li>\n",
       "\t<li>'V86'</li>\n",
       "</ol>\n"
      ],
      "text/latex": [
       "\\begin{enumerate*}\n",
       "\\item 'V4'\n",
       "\\item 'V10'\n",
       "\\item 'V18'\n",
       "\\item 'V41'\n",
       "\\item 'V44'\n",
       "\\item 'V46'\n",
       "\\item 'V47'\n",
       "\\item 'V55'\n",
       "\\item 'V58'\n",
       "\\item 'V59'\n",
       "\\item 'V61'\n",
       "\\item 'V83'\n",
       "\\item 'V85'\n",
       "\\item 'V86'\n",
       "\\end{enumerate*}\n"
      ],
      "text/markdown": [
       "1. 'V4'\n",
       "2. 'V10'\n",
       "3. 'V18'\n",
       "4. 'V41'\n",
       "5. 'V44'\n",
       "6. 'V46'\n",
       "7. 'V47'\n",
       "8. 'V55'\n",
       "9. 'V58'\n",
       "10. 'V59'\n",
       "11. 'V61'\n",
       "12. 'V83'\n",
       "13. 'V85'\n",
       "14. 'V86'\n",
       "\n",
       "\n"
      ],
      "text/plain": [
       " [1] \"V4\"  \"V10\" \"V18\" \"V41\" \"V44\" \"V46\" \"V47\" \"V55\" \"V58\" \"V59\" \"V61\" \"V83\"\n",
       "[13] \"V85\" \"V86\""
      ]
     },
     "metadata": {},
     "output_type": "display_data"
    }
   ],
   "source": [
    "colnames(new_train_data_2)  #Printing the column names"
   ]
  },
  {
   "cell_type": "markdown",
   "metadata": {},
   "source": [
    "### Cross Validation for features\n",
    "\n",
    "With the help of cross validation with lasso regularisation we can try to reduce the variables still more. But the results of the cross validation may not be completely reliable because there is a high chance of all variables coefficients might be given zero except a few. We make use of the \"glmnet\" package which provides us with methods that we can use for cross validation."
   ]
  },
  {
   "cell_type": "code",
   "execution_count": 144,
   "metadata": {
    "collapsed": true
   },
   "outputs": [],
   "source": [
    "matrix_variables = model.matrix(V86 ~ ., data = new_train_data_2) #Matrix for storing the fit model\n",
    "y = matrix_variables[,ncol(matrix_variables)]   #vector of the response variables\n",
    "matrix_variables = matrix_variables[,-1]   #Dropping the final columns"
   ]
  },
  {
   "cell_type": "code",
   "execution_count": 145,
   "metadata": {
    "collapsed": true
   },
   "outputs": [],
   "source": [
    "cv.lasso = cv.glmnet(matrix_variables, y, alpha = 1)  #Cross validation with lasso"
   ]
  },
  {
   "cell_type": "code",
   "execution_count": 146,
   "metadata": {},
   "outputs": [
    {
     "data": {
      "image/png": "[encoded data removed]",
      "text/plain": [
       "plot without title"
      ]
     },
     "metadata": {},
     "output_type": "display_data"
    }
   ],
   "source": [
    "plot(cv.lasso)  #plotting the cross validation results"
   ]
  },
  {
   "cell_type": "markdown",
   "metadata": {},
   "source": [
    "We select a lambda value that has been given to us by the cross validation model that we built above. With the lambda value given by the model we cam fit and predict the coefficients of the variables that we selected."
   ]
  },
  {
   "cell_type": "code",
   "execution_count": 147,
   "metadata": {},
   "outputs": [
    {
     "data": {
      "text/html": [
       "<dl class=dl-horizontal>\n",
       "\t<dt>(Intercept)</dt>\n",
       "\t\t<dd>0.000456096139535253</dd>\n",
       "\t<dt>V4</dt>\n",
       "\t\t<dd>0</dd>\n",
       "\t<dt>V10</dt>\n",
       "\t\t<dd>0</dd>\n",
       "\t<dt>V18</dt>\n",
       "\t\t<dd>0</dd>\n",
       "\t<dt>V41</dt>\n",
       "\t\t<dd>0</dd>\n",
       "\t<dt>V44</dt>\n",
       "\t\t<dd>0</dd>\n",
       "\t<dt>V46</dt>\n",
       "\t\t<dd>0</dd>\n",
       "\t<dt>V47</dt>\n",
       "\t\t<dd>0</dd>\n",
       "\t<dt>V55</dt>\n",
       "\t\t<dd>0</dd>\n",
       "\t<dt>V58</dt>\n",
       "\t\t<dd>0</dd>\n",
       "\t<dt>V59</dt>\n",
       "\t\t<dd>0</dd>\n",
       "\t<dt>V61</dt>\n",
       "\t\t<dd>0</dd>\n",
       "\t<dt>V83</dt>\n",
       "\t\t<dd>0</dd>\n",
       "\t<dt>V85</dt>\n",
       "\t\t<dd>0.968007328621997</dd>\n",
       "</dl>\n"
      ],
      "text/latex": [
       "\\begin{description*}\n",
       "\\item[(Intercept)] 0.000456096139535253\n",
       "\\item[V4] 0\n",
       "\\item[V10] 0\n",
       "\\item[V18] 0\n",
       "\\item[V41] 0\n",
       "\\item[V44] 0\n",
       "\\item[V46] 0\n",
       "\\item[V47] 0\n",
       "\\item[V55] 0\n",
       "\\item[V58] 0\n",
       "\\item[V59] 0\n",
       "\\item[V61] 0\n",
       "\\item[V83] 0\n",
       "\\item[V85] 0.968007328621997\n",
       "\\end{description*}\n"
      ],
      "text/markdown": [
       "(Intercept)\n",
       ":   0.000456096139535253V4\n",
       ":   0V10\n",
       ":   0V18\n",
       ":   0V41\n",
       ":   0V44\n",
       ":   0V46\n",
       ":   0V47\n",
       ":   0V55\n",
       ":   0V58\n",
       ":   0V59\n",
       ":   0V61\n",
       ":   0V83\n",
       ":   0V85\n",
       ":   0.968007328621997\n",
       "\n"
      ],
      "text/plain": [
       " (Intercept)           V4          V10          V18          V41          V44 \n",
       "0.0004560961 0.0000000000 0.0000000000 0.0000000000 0.0000000000 0.0000000000 \n",
       "         V46          V47          V55          V58          V59          V61 \n",
       "0.0000000000 0.0000000000 0.0000000000 0.0000000000 0.0000000000 0.0000000000 \n",
       "         V83          V85 \n",
       "0.0000000000 0.9680073286 "
      ]
     },
     "metadata": {},
     "output_type": "display_data"
    }
   ],
   "source": [
    "bestlam = cv.lasso$lambda.min   #Best lambda value\n",
    "fit.lasso = glmnet(matrix_variables, y, alpha = 1)   #Fitting the model\n",
    "predict(fit.lasso, s = bestlam, type = \"coefficients\")[1:14,]  #Predicted result"
   ]
  },
  {
   "cell_type": "markdown",
   "metadata": {},
   "source": [
    "The performance of the lasso cross validation is not useful for us. The reason for this is all the variables except the V85 column are given a coefficient of 0 by the model. But it doesn't make sense to put only one variable in the model as the caravan purchase is influenced by number of factors. \n",
    "\n",
    "So we try to explore the effect of these variables on the data in detail and try to decide if the variables are to be included in the model or not."
   ]
  },
  {
   "cell_type": "markdown",
   "metadata": {},
   "source": [
    "### Exploring the significant variables with the response\n",
    "\n",
    "Now we have come up with a set of variables which are significant in predicting if a customer will buy a caravan policy are not. By exploring the variables relationship with the response we can understand the exact effect of the variable. The variables that were used not visualised before will be plotted against the number of customers with caravan insurance policy."
   ]
  },
  {
   "cell_type": "markdown",
   "metadata": {},
   "source": [
    "### Plotting the number of married people in a zip code with caravan policy\n",
    "\n",
    "We can plot the number of customers who are married in a zip code is plotted against the number of customers who bought the caravan policy."
   ]
  },
  {
   "cell_type": "code",
   "execution_count": 148,
   "metadata": {},
   "outputs": [
    {
     "data": {},
     "metadata": {},
     "output_type": "display_data"
    },
    {
     "data": {
      "image/png": "[encoded data removed]",
      "text/plain": [
       "plot without title"
      ]
     },
     "metadata": {},
     "output_type": "display_data"
    }
   ],
   "source": [
    "\n",
    "#Plot of average age vs caravan policy\n",
    "train_data$V86 = as.factor(train_data$V86)\n",
    "train_data$V10 = as.factor(train_data$V10)  #Changing into factor\n",
    "#Plotting the number of married customers in a zip code vs number of customers with caravan policy\n",
    "ggplot(train_data, aes(V10)) + geom_bar(aes(fill = V86)) +\n",
    "labs(y = \"Number of Customers\", x = \"Married\", title = \"Number of Married in a zip code Vs Caravan Policy\")"
   ]
  },
  {
   "cell_type": "markdown",
   "metadata": {},
   "source": [
    "#### Insights\n",
    "\n",
    "There is a relationship between the number of customers in a zip code who are married with a customer buying a caravan policy is clearly seen in the plot. The customers who belong to a zip code where the number of married people is 7 have a high probability of buying a caravan insurance policy. But surpisingly there were very few customers who bought the caravan policy when the number of customers in the zip code was 8. If the number of customers is 1 then a customer from that zip code would be least probable to buy a caravan insurance policy. When we change the interpretation in general terms we can say that if a customer is from a zip code where there are very less number of married people, then a customer from that zip code would be young and not own a caravan."
   ]
  },
  {
   "cell_type": "markdown",
   "metadata": {},
   "source": [
    "### Plotting the number of people with low level education in a zip code with caravan policy\n",
    "\n",
    "The next significant variable that we selected was low level education column which says the number of people in a zip code that had a low level education. To know the relationship between this variable with the response we can create a bar plot which might show us some trend."
   ]
  },
  {
   "cell_type": "code",
   "execution_count": 149,
   "metadata": {},
   "outputs": [
    {
     "data": {},
     "metadata": {},
     "output_type": "display_data"
    },
    {
     "data": {
      "image/png": "[encoded data removed]",
      "text/plain": [
       "plot without title"
      ]
     },
     "metadata": {},
     "output_type": "display_data"
    }
   ],
   "source": [
    "train_data$V18 = as.factor(train_data$V18)\n",
    "#Plotting the number of customers in a zip code with low level education vs number of customers with caravan policy\n",
    "ggplot(train_data, aes(V18)) + geom_bar(aes(fill = V86)) +\n",
    "labs(y = \"Number of Customers\", x = \"Low Level Education\", title = \"Number of people in a zip code with lowe level education Vs Caravan Policy\")"
   ]
  },
  {
   "cell_type": "markdown",
   "metadata": {},
   "source": [
    "#### Insights\n",
    "\n",
    "The plot shows that the probability of a customer buying a caravan policy who is from a zip code where the number of people with low level education from 2 to 5 might be almost equal. Even for the value of 0,1,6, and 7 are almost equal in the plot. Including this variable in the final model may improve the performance of the model as the relationship is seen with the response. Hence this was included in the final predictor."
   ]
  },
  {
   "cell_type": "markdown",
   "metadata": {},
   "source": [
    "### Plotting the number of people with income > 123.000 in a zip code with caravan policy\n"
   ]
  },
  {
   "cell_type": "code",
   "execution_count": 150,
   "metadata": {},
   "outputs": [
    {
     "data": {},
     "metadata": {},
     "output_type": "display_data"
    },
    {
     "data": {
      "image/png": "[encoded data removed]",
      "text/plain": [
       "plot without title"
      ]
     },
     "metadata": {},
     "output_type": "display_data"
    }
   ],
   "source": [
    "train_data$V41 = as.factor(train_data$V41)\n",
    "#Plotting the number of customers in a zip code with low level education vs number of customers with caravan policy\n",
    "ggplot(train_data, aes(V41)) + geom_bar(aes(fill = V86)) +\n",
    "labs(y = \"Number of Customers\", x = \"Income > 123.000\", title = \"Number of people in a zip code with income > 123.00 Vs Caravan Policy\")"
   ]
  },
  {
   "cell_type": "markdown",
   "metadata": {},
   "source": [
    "#### Insights\n",
    "\n",
    "From the plot we can see that the number of customers in a zip code without an income > 123.000 is the highest. Among the customers who have income > 123.000 the probability of buying a caravan policy is low. This is an interesting observation where the people with more income are less likely to buy a caravan insurance policy as they may not own a caravan. Including this variable in the final model would help the model to predict the response is justified."
   ]
  },
  {
   "cell_type": "markdown",
   "metadata": {},
   "source": [
    "For all the next variables the data related to customers who bought the caravan policy is plotted. The reason for this is all the variables that we are gonna explore in the next sections is the ownership of products by the customers.  "
   ]
  },
  {
   "cell_type": "markdown",
   "metadata": {},
   "source": [
    "### Plotting the Contribution to private third part insurances vs caravan policy purchase\n",
    "\n",
    "Let's see how the contribution of customer to private third party insurances is affecting the decision of buying a caravan insurance policy."
   ]
  },
  {
   "cell_type": "code",
   "execution_count": 151,
   "metadata": {},
   "outputs": [
    {
     "data": {},
     "metadata": {},
     "output_type": "display_data"
    },
    {
     "data": {
      "image/png": "[encoded data removed]",
      "text/plain": [
       "plot without title"
      ]
     },
     "metadata": {},
     "output_type": "display_data"
    }
   ],
   "source": [
    "#Bar plot between V44 and V86 columns\n",
    "ggplot(train_data[train_data$V86==1,], aes(V44)) + geom_bar(fill = \"blue\") +\n",
    "labs(y = \"Number of Customers\", x = \"Contribution to Private third party insurance\", title = \"Private third party insurance contribution Vs Caravan Policy\")"
   ]
  },
  {
   "cell_type": "markdown",
   "metadata": {},
   "source": [
    "#### Insights\n",
    "\n",
    "When the customers' contribution to private third party insurance is 0 and 2 has the most number of purchases of caravan policies. And when the contribution value is 1 and 3 then purchase of caravan policy is low. The levels represented for this numeric values are given in the description of variables. So including this variable in the final model would help us in predicting if the customer wants to buy a policy or not."
   ]
  },
  {
   "cell_type": "code",
   "execution_count": 152,
   "metadata": {
    "collapsed": true
   },
   "outputs": [],
   "source": [
    "### Plotting the contribution of customer to third party insurance policy related to agriculture vs caravn policy"
   ]
  },
  {
   "cell_type": "code",
   "execution_count": 153,
   "metadata": {},
   "outputs": [
    {
     "data": {},
     "metadata": {},
     "output_type": "display_data"
    },
    {
     "data": {
      "image/png": "[encoded data removed]",
      "text/plain": [
       "plot without title"
      ]
     },
     "metadata": {},
     "output_type": "display_data"
    }
   ],
   "source": [
    "#Bar plot between V46 and V86\n",
    "ggplot(train_data[train_data$V86 == 1,], aes(V46)) + geom_bar(fill = \"blue\") +\n",
    "labs(y = \"Number of Customers\", x = \"Contribution to Private third party insurance(agriculture)\", title = \"Private third party(agriculture) insurance contribution Vs Caravan Policy\")"
   ]
  },
  {
   "cell_type": "markdown",
   "metadata": {},
   "source": [
    "### Insights\n",
    "\n",
    "The customers who haven't spent much on the private third party insurance(agriculture) has the most probability of buying a caravan policy. And the customers who contribute in the levels 3 and 4 also bought caravan policy but the value is very low compared to the level 0. This feature in the model would not let it learn better for predicting if the customer is gonna buy a caravan policy or not."
   ]
  },
  {
   "cell_type": "markdown",
   "metadata": {},
   "source": [
    "### Plotting the contribution to car policy vs caravan policy"
   ]
  },
  {
   "cell_type": "code",
   "execution_count": 154,
   "metadata": {},
   "outputs": [
    {
     "data": {},
     "metadata": {},
     "output_type": "display_data"
    },
    {
     "data": {
      "image/png": "[encoded data removed]",
      "text/plain": [
       "plot without title"
      ]
     },
     "metadata": {},
     "output_type": "display_data"
    }
   ],
   "source": [
    "#Bar plot between V47 and V86\n",
    "ggplot(train_data[train_data$V86==1,], aes(V47)) + geom_bar(fill = \"blue\") +\n",
    "labs(y = \"Number of Customers\", x = \"Contribution to car policy\", title = \"Contribution to car policy Vs Caravan Policy\")"
   ]
  },
  {
   "cell_type": "markdown",
   "metadata": {},
   "source": [
    "#### Insights\n",
    "\n",
    "The customer who is contributing more to the car policy is having a high probability of buying a caravan policy. Even the customer who doesn't contribute much for the car policy is also having a good probability of buying a caravan policy. "
   ]
  },
  {
   "cell_type": "markdown",
   "metadata": {},
   "source": [
    "### Plotting contibution to life insurance vs Caravan policy\n"
   ]
  },
  {
   "cell_type": "code",
   "execution_count": 155,
   "metadata": {},
   "outputs": [
    {
     "data": {},
     "metadata": {},
     "output_type": "display_data"
    },
    {
     "data": {
      "image/png": "[encoded data removed]",
      "text/plain": [
       "plot without title"
      ]
     },
     "metadata": {},
     "output_type": "display_data"
    }
   ],
   "source": [
    "#Bar plot between V55 and V86\n",
    "ggplot(train_data[train_data$V86==1,], aes(V55)) + geom_bar(fill = \"blue\") +\n",
    "labs(y = \"Number of Customers\", x = \"Contribution to Life Insurances\", title = \"Contribution to Life Insurances Vs Caravan Policy\")"
   ]
  },
  {
   "cell_type": "markdown",
   "metadata": {},
   "source": [
    "#### Insights\n",
    "\n",
    "The customers who don't contribute much for life insurance have bought the most caravan policy according to the plot. The other levels 3,4,5, and 6 does have some customers who purchased a caravan policy but the values are not as high as the level zero."
   ]
  },
  {
   "cell_type": "markdown",
   "metadata": {},
   "source": [
    "### Plotting the contribution to disability insurance policy vs caravan policy purchase"
   ]
  },
  {
   "cell_type": "code",
   "execution_count": 156,
   "metadata": {},
   "outputs": [
    {
     "data": {},
     "metadata": {},
     "output_type": "display_data"
    },
    {
     "data": {
      "image/png": "[encoded data removed]",
      "text/plain": [
       "plot without title"
      ]
     },
     "metadata": {},
     "output_type": "display_data"
    }
   ],
   "source": [
    "#Bar plot of V58 vs V86\n",
    "train_data$V58 = as.factor(train_data$V58)\n",
    "ggplot(train_data[train_data$V86==1,], aes(V58)) + geom_bar(fill = \"blue\") +\n",
    "labs(y = \"Number of Customers\", x = \"Contribution to disability insurance policy\", title = \"Contribution to disability insurance Vs Caravan Policy\")"
   ]
  },
  {
   "cell_type": "markdown",
   "metadata": {},
   "source": [
    "#### Insights\n",
    "\n",
    "The plot shows that the customers who don't contribute for disability insurance policy buy the most of the caravan policy according to this column values. The levels 4,5,6 and 7 are all combined into one value by the plot. The inclusion of this variable in the final model would not increase the performance. So we need to exclude this variable in the final predictor list."
   ]
  },
  {
   "cell_type": "markdown",
   "metadata": {},
   "source": [
    "### Plotting contribution to fire policy vs caravan policy"
   ]
  },
  {
   "cell_type": "code",
   "execution_count": 157,
   "metadata": {},
   "outputs": [
    {
     "data": {},
     "metadata": {},
     "output_type": "display_data"
    },
    {
     "data": {
      "image/png": "[encoded data removed]",
      "text/plain": [
       "plot without title"
      ]
     },
     "metadata": {},
     "output_type": "display_data"
    }
   ],
   "source": [
    "#Bar plot of V59 vs V86\n",
    "ggplot(train_data[train_data$V86==1,], aes(V59)) + geom_bar(fill = \"blue\") +\n",
    "labs(y = \"Number of Customers\", x = \"Contribution to Fire Policies\", title = \"Contribution to fire policies Vs Caravan Policy\")"
   ]
  },
  {
   "cell_type": "markdown",
   "metadata": {},
   "source": [
    "#### Insights\n",
    "\n",
    "From the plot we can see that the customers who have the contribution level as 4 have the highest probability of buying a caravan policy. Then the customers with levels 3 and 0 are also having a good probability of purchasing a caravan policy. So including this variable would enhance the performance of the model."
   ]
  },
  {
   "cell_type": "markdown",
   "metadata": {},
   "source": [
    "### Plotting Contibution to Boat policies vs caravan policy"
   ]
  },
  {
   "cell_type": "code",
   "execution_count": 158,
   "metadata": {},
   "outputs": [
    {
     "data": {},
     "metadata": {},
     "output_type": "display_data"
    },
    {
     "data": {
      "image/png": "[encoded data removed]",
      "text/plain": [
       "plot without title"
      ]
     },
     "metadata": {},
     "output_type": "display_data"
    }
   ],
   "source": [
    "#Bar plot of V61 vs V86\n",
    "\n",
    "ggplot(train_data[train_data$V86==1,], aes(V61)) + geom_bar(fill = \"blue\") +\n",
    "labs(y = \"Number of Customers\", x = \"Contribution to boat policies\", title = \"Contribution to boat policies Vs Caravan Policy\")"
   ]
  },
  {
   "cell_type": "markdown",
   "metadata": {},
   "source": [
    "#### Insights\n",
    "\n",
    "\n",
    "The customer who hasn't contributed to boat policy is the highest among the customers who bought a caravan policy. This was a common trend that we are observing among the variables that we are exploring in the top also. The customers who have the contribution level as 4 are the second highest values which is much lesser than the values of the customers with level zero. But we can add this variable to the model as there is a clear dispersion in the number of customers who bought caravan policy."
   ]
  },
  {
   "cell_type": "markdown",
   "metadata": {},
   "source": [
    "### Plotting the number of bicycle policies vs caravan policy"
   ]
  },
  {
   "cell_type": "code",
   "execution_count": 159,
   "metadata": {},
   "outputs": [
    {
     "data": {},
     "metadata": {},
     "output_type": "display_data"
    },
    {
     "data": {
      "image/png": "[encoded data removed]",
      "text/plain": [
       "plot without title"
      ]
     },
     "metadata": {},
     "output_type": "display_data"
    }
   ],
   "source": [
    "#Bar plot of V83 vs V86\n",
    "ggplot(train_data[train_data$V86==1,], aes(V83)) + geom_bar(fill = \"blue\") +\n",
    "labs(y = \"Number of Customers\", x = \"Number of bicycle policies\", title = \"Number of bicycle policies Vs Caravan Policy\")"
   ]
  },
  {
   "cell_type": "markdown",
   "metadata": {},
   "source": [
    "### Insights\n",
    "\n",
    "The distribution in the plot shows that the customers who don't have any bicycle policies are highly probable of purchasing a caravan policy. The probability of purchase of caravan decreases rapidly for all the customers with 1,2 and 3 bicycle policies. This would let the model learn better from this variable so we need have to include it in the final model."
   ]
  },
  {
   "cell_type": "markdown",
   "metadata": {},
   "source": [
    "### Plotting number of social security insurance policies vs caravan policy"
   ]
  },
  {
   "cell_type": "code",
   "execution_count": 160,
   "metadata": {},
   "outputs": [
    {
     "data": {},
     "metadata": {},
     "output_type": "display_data"
    },
    {
     "data": {
      "image/png": "[encoded data removed]",
      "text/plain": [
       "plot without title"
      ]
     },
     "metadata": {},
     "output_type": "display_data"
    }
   ],
   "source": [
    "#Bar plot of V85 vs V86\n",
    "train_data$V87 = as.factor(train_data$V85) #Adding a new column\n",
    "#bar plot between V85 and V86\n",
    "ggplot(train_data[train_data$V86==1,], aes(V87)) + geom_bar(fill = \"blue\") +\n",
    "labs(y = \"Number of Customers\", x = \"Number of social security insurance policies\",\n",
    "     title = \"Number of social security insurance policies Vs Caravan Policy\")"
   ]
  },
  {
   "cell_type": "markdown",
   "metadata": {},
   "source": [
    "#### Insights\n",
    "\n",
    "We can clearly see that the customers with no social security insurance policy are the ones that might buy a caravan policy. The number of customers in this column with zero value might be large when compared to the customers with any number of social security insurance policies. But the influence of this predictor in the model would be significant as there is a clear difference that we can see in the buckets. So we are gonna include this variable in significant variables list."
   ]
  },
  {
   "cell_type": "markdown",
   "metadata": {},
   "source": [
    "After the extensive exploration of the selected variables, we have come to a conclusion on which variables to be included in the model and which need not be. So the final predictor columns that were selected are V4, V10, V18, V41, V44, V47, V55, V59, V61, V83, V85. In the next sections, we build three different types of models for predicting the probability of a customer purchasing a caravan policy. "
   ]
  },
  {
   "cell_type": "code",
   "execution_count": 161,
   "metadata": {},
   "outputs": [
    {
     "data": {
      "text/html": [
       "<ol class=list-inline>\n",
       "\t<li>'V4'</li>\n",
       "\t<li>'V10'</li>\n",
       "\t<li>'V17'</li>\n",
       "\t<li>'V18'</li>\n",
       "\t<li>'V41'</li>\n",
       "\t<li>'V44'</li>\n",
       "\t<li>'V46'</li>\n",
       "\t<li>'V47'</li>\n",
       "\t<li>'V55'</li>\n",
       "\t<li>'V58'</li>\n",
       "\t<li>'V59'</li>\n",
       "\t<li>'V61'</li>\n",
       "\t<li>'V76'</li>\n",
       "\t<li>'V83'</li>\n",
       "\t<li>'V85'</li>\n",
       "\t<li>'V86'</li>\n",
       "</ol>\n"
      ],
      "text/latex": [
       "\\begin{enumerate*}\n",
       "\\item 'V4'\n",
       "\\item 'V10'\n",
       "\\item 'V17'\n",
       "\\item 'V18'\n",
       "\\item 'V41'\n",
       "\\item 'V44'\n",
       "\\item 'V46'\n",
       "\\item 'V47'\n",
       "\\item 'V55'\n",
       "\\item 'V58'\n",
       "\\item 'V59'\n",
       "\\item 'V61'\n",
       "\\item 'V76'\n",
       "\\item 'V83'\n",
       "\\item 'V85'\n",
       "\\item 'V86'\n",
       "\\end{enumerate*}\n"
      ],
      "text/markdown": [
       "1. 'V4'\n",
       "2. 'V10'\n",
       "3. 'V17'\n",
       "4. 'V18'\n",
       "5. 'V41'\n",
       "6. 'V44'\n",
       "7. 'V46'\n",
       "8. 'V47'\n",
       "9. 'V55'\n",
       "10. 'V58'\n",
       "11. 'V59'\n",
       "12. 'V61'\n",
       "13. 'V76'\n",
       "14. 'V83'\n",
       "15. 'V85'\n",
       "16. 'V86'\n",
       "\n",
       "\n"
      ],
      "text/plain": [
       " [1] \"V4\"  \"V10\" \"V17\" \"V18\" \"V41\" \"V44\" \"V46\" \"V47\" \"V55\" \"V58\" \"V59\" \"V61\"\n",
       "[13] \"V76\" \"V83\" \"V85\" \"V86\""
      ]
     },
     "metadata": {},
     "output_type": "display_data"
    }
   ],
   "source": [
    "significant_variables"
   ]
  },
  {
   "cell_type": "code",
   "execution_count": 162,
   "metadata": {},
   "outputs": [
    {
     "data": {
      "text/html": [
       "<ol class=list-inline>\n",
       "\t<li>'V4'</li>\n",
       "\t<li>'V10'</li>\n",
       "\t<li>'V18'</li>\n",
       "\t<li>'V41'</li>\n",
       "\t<li>'V44'</li>\n",
       "\t<li>'V46'</li>\n",
       "\t<li>'V47'</li>\n",
       "\t<li>'V55'</li>\n",
       "\t<li>'V58'</li>\n",
       "\t<li>'V59'</li>\n",
       "\t<li>'V61'</li>\n",
       "\t<li>'V83'</li>\n",
       "\t<li>'V85'</li>\n",
       "\t<li>'V86'</li>\n",
       "</ol>\n"
      ],
      "text/latex": [
       "\\begin{enumerate*}\n",
       "\\item 'V4'\n",
       "\\item 'V10'\n",
       "\\item 'V18'\n",
       "\\item 'V41'\n",
       "\\item 'V44'\n",
       "\\item 'V46'\n",
       "\\item 'V47'\n",
       "\\item 'V55'\n",
       "\\item 'V58'\n",
       "\\item 'V59'\n",
       "\\item 'V61'\n",
       "\\item 'V83'\n",
       "\\item 'V85'\n",
       "\\item 'V86'\n",
       "\\end{enumerate*}\n"
      ],
      "text/markdown": [
       "1. 'V4'\n",
       "2. 'V10'\n",
       "3. 'V18'\n",
       "4. 'V41'\n",
       "5. 'V44'\n",
       "6. 'V46'\n",
       "7. 'V47'\n",
       "8. 'V55'\n",
       "9. 'V58'\n",
       "10. 'V59'\n",
       "11. 'V61'\n",
       "12. 'V83'\n",
       "13. 'V85'\n",
       "14. 'V86'\n",
       "\n",
       "\n"
      ],
      "text/plain": [
       " [1] \"V4\"  \"V10\" \"V18\" \"V41\" \"V44\" \"V46\" \"V47\" \"V55\" \"V58\" \"V59\" \"V61\" \"V83\"\n",
       "[13] \"V85\" \"V86\""
      ]
     },
     "metadata": {},
     "output_type": "display_data"
    }
   ],
   "source": [
    "colnames(new_train_data_2)"
   ]
  },
  {
   "cell_type": "code",
   "execution_count": 163,
   "metadata": {},
   "outputs": [
    {
     "data": {
      "text/html": [
       "<table>\n",
       "<thead><tr><th scope=col>V4</th><th scope=col>V10</th><th scope=col>V18</th><th scope=col>V41</th><th scope=col>V44</th><th scope=col>V47</th><th scope=col>V55</th><th scope=col>V59</th><th scope=col>V61</th><th scope=col>V83</th><th scope=col>V85</th><th scope=col>V86</th></tr></thead>\n",
       "<tbody>\n",
       "\t<tr><td>2</td><td>7</td><td>7</td><td>0</td><td>0</td><td>6</td><td>0</td><td>5</td><td>0</td><td>0</td><td>0</td><td>0</td></tr>\n",
       "\t<tr><td>2</td><td>6</td><td>4</td><td>0</td><td>2</td><td>0</td><td>0</td><td>2</td><td>0</td><td>0</td><td>0</td><td>0</td></tr>\n",
       "\t<tr><td>2</td><td>3</td><td>4</td><td>0</td><td>2</td><td>6</td><td>0</td><td>2</td><td>0</td><td>0</td><td>0</td><td>0</td></tr>\n",
       "\t<tr><td>3</td><td>5</td><td>2</td><td>0</td><td>0</td><td>6</td><td>0</td><td>2</td><td>0</td><td>0</td><td>0</td><td>0</td></tr>\n",
       "\t<tr><td>2</td><td>7</td><td>0</td><td>0</td><td>0</td><td>0</td><td>0</td><td>6</td><td>0</td><td>0</td><td>0</td><td>0</td></tr>\n",
       "\t<tr><td>1</td><td>0</td><td>4</td><td>0</td><td>0</td><td>6</td><td>0</td><td>0</td><td>0</td><td>0</td><td>0</td><td>0</td></tr>\n",
       "</tbody>\n",
       "</table>\n"
      ],
      "text/latex": [
       "\\begin{tabular}{r|llllllllllll}\n",
       " V4 & V10 & V18 & V41 & V44 & V47 & V55 & V59 & V61 & V83 & V85 & V86\\\\\n",
       "\\hline\n",
       "\t 2 & 7 & 7 & 0 & 0 & 6 & 0 & 5 & 0 & 0 & 0 & 0\\\\\n",
       "\t 2 & 6 & 4 & 0 & 2 & 0 & 0 & 2 & 0 & 0 & 0 & 0\\\\\n",
       "\t 2 & 3 & 4 & 0 & 2 & 6 & 0 & 2 & 0 & 0 & 0 & 0\\\\\n",
       "\t 3 & 5 & 2 & 0 & 0 & 6 & 0 & 2 & 0 & 0 & 0 & 0\\\\\n",
       "\t 2 & 7 & 0 & 0 & 0 & 0 & 0 & 6 & 0 & 0 & 0 & 0\\\\\n",
       "\t 1 & 0 & 4 & 0 & 0 & 6 & 0 & 0 & 0 & 0 & 0 & 0\\\\\n",
       "\\end{tabular}\n"
      ],
      "text/markdown": [
       "\n",
       "V4 | V10 | V18 | V41 | V44 | V47 | V55 | V59 | V61 | V83 | V85 | V86 | \n",
       "|---|---|---|---|---|---|\n",
       "| 2 | 7 | 7 | 0 | 0 | 6 | 0 | 5 | 0 | 0 | 0 | 0 | \n",
       "| 2 | 6 | 4 | 0 | 2 | 0 | 0 | 2 | 0 | 0 | 0 | 0 | \n",
       "| 2 | 3 | 4 | 0 | 2 | 6 | 0 | 2 | 0 | 0 | 0 | 0 | \n",
       "| 3 | 5 | 2 | 0 | 0 | 6 | 0 | 2 | 0 | 0 | 0 | 0 | \n",
       "| 2 | 7 | 0 | 0 | 0 | 0 | 0 | 6 | 0 | 0 | 0 | 0 | \n",
       "| 1 | 0 | 4 | 0 | 0 | 6 | 0 | 0 | 0 | 0 | 0 | 0 | \n",
       "\n",
       "\n"
      ],
      "text/plain": [
       "  V4 V10 V18 V41 V44 V47 V55 V59 V61 V83 V85 V86\n",
       "1 2  7   7   0   0   6   0   5   0   0   0   0  \n",
       "2 2  6   4   0   2   0   0   2   0   0   0   0  \n",
       "3 2  3   4   0   2   6   0   2   0   0   0   0  \n",
       "4 3  5   2   0   0   6   0   2   0   0   0   0  \n",
       "5 2  7   0   0   0   0   0   6   0   0   0   0  \n",
       "6 1  0   4   0   0   6   0   0   0   0   0   0  "
      ]
     },
     "metadata": {},
     "output_type": "display_data"
    }
   ],
   "source": [
    "#Final variables list which are most significant\n",
    "final_variables = c(\"V4\",\"V10\",\"V18\",\"V41\",\"V44\",\"V47\",\"V55\",\"V59\",\"V61\",\"V83\",\"V85\",\"V86\")\n",
    "\n",
    "final_train_data = new_train_data_2[,final_variables]   #Subsetting the significant variables\n",
    "#Changing the response to factor\n",
    "final_train_data$V86 = as.factor(final_train_data$V86)\n",
    "#First 5 rows of training data\n",
    "head(final_train_data)"
   ]
  },
  {
   "cell_type": "markdown",
   "metadata": {},
   "source": [
    "## Logistic Regression\n",
    "\n",
    "Logistic regression is a classification model that can used when the response variable is binary. This type of regression is used to describe the data and to explain the relationship between on or more ordinal, nominal and one binary dependent variable. The logistic regression is build by activating the linear regression function through a sigmoid function where the values given by the model are only between 0 and 1. This values are the probability that the response varaible will be 1. Logistic regression models the probability that the response varaible belongs to a particular category not the response varaible directly.\n",
    "\n",
    "In this assessment, the decision of a customer buying a caravan policy has 0 and 1 as the values, which is a binary value. The data has independent variables which are nominal, ordinal. All these factors justify the usage of logistic regression for predicting the most probable 800 customers from the given test data. Hence the first type of the model that was developed for this task is logistic regression."
   ]
  },
  {
   "cell_type": "code",
   "execution_count": 164,
   "metadata": {},
   "outputs": [
    {
     "data": {
      "text/plain": [
       "\n",
       "Call:\n",
       "glm(formula = V86 ~ ., family = binomial, data = final_train_data)\n",
       "\n",
       "Deviance Residuals: \n",
       "    Min       1Q   Median       3Q      Max  \n",
       "-1.6045  -0.3850  -0.2660  -0.1834   3.1685  \n",
       "\n",
       "Coefficients:\n",
       "            Estimate Std. Error z value Pr(>|z|)    \n",
       "(Intercept) -4.68245    0.36073 -12.980  < 2e-16 ***\n",
       "V4           0.11232    0.07277   1.543  0.12274    \n",
       "V10          0.14648    0.03313   4.421 9.82e-06 ***\n",
       "V18         -0.15814    0.02580  -6.129 8.82e-10 ***\n",
       "V41         -0.17534    0.10808  -1.622  0.10474    \n",
       "V44          0.19022    0.06807   2.794  0.00520 ** \n",
       "V47          0.22715    0.02390   9.503  < 2e-16 ***\n",
       "V55         -0.05021    0.05518  -0.910  0.36284    \n",
       "V59          0.11271    0.03537   3.187  0.00144 ** \n",
       "V61          0.55065    0.10743   5.126 2.97e-07 ***\n",
       "V83          0.48759    0.19994   2.439  0.01474 *  \n",
       "V85          0.62946    0.29595   2.127  0.03343 *  \n",
       "---\n",
       "Signif. codes:  0 '***' 0.001 '**' 0.01 '*' 0.05 '.' 0.1 ' ' 1\n",
       "\n",
       "(Dispersion parameter for binomial family taken to be 1)\n",
       "\n",
       "    Null deviance: 2635.5  on 5821  degrees of freedom\n",
       "Residual deviance: 2350.3  on 5810  degrees of freedom\n",
       "AIC: 2374.3\n",
       "\n",
       "Number of Fisher Scoring iterations: 6\n"
      ]
     },
     "metadata": {},
     "output_type": "display_data"
    }
   ],
   "source": [
    "#Logistic model for the training data\n",
    "log_model = glm(V86 ~., data = final_train_data, family = binomial)\n",
    "summary(log_model)  #Summary"
   ]
  },
  {
   "cell_type": "code",
   "execution_count": 165,
   "metadata": {},
   "outputs": [
    {
     "data": {
      "text/html": [
       "0.135"
      ],
      "text/latex": [
       "0.135"
      ],
      "text/markdown": [
       "0.135"
      ],
      "text/plain": [
       "[1] 0.135"
      ]
     },
     "metadata": {},
     "output_type": "display_data"
    }
   ],
   "source": [
    "probs2 = predict(log_model, test_data, type = \"response\")  #Probabilities of logistic model\n",
    "\n",
    "#Changing the column name of test labels\n",
    "colnames(test_labels) = \"test_labels\"\n",
    "#Add the test lables to test data\n",
    "new_test_data = cbind(test_data, test_labels)\n",
    "#Appending the predicted probabilities\n",
    "new_test_data$prob_pred = probs2\n",
    "\n",
    "#Sorting the data using the probabilities\n",
    "val_data = new_test_data[order(new_test_data$prob_pred,decreasing=TRUE),]\n",
    "#Selecting the first 800 customers\n",
    "val_data_1 = val_data[1:800,]\n",
    "#The response variable for the customers\n",
    "val_data_1$pred_policy = rep(\"1\",nrow(val_data_1))\n",
    "\n",
    "#validating the predictions\n",
    "nrow(val_data_1[val_data_1$test_labels == val_data_1$pred_policy,])/800"
   ]
  },
  {
   "cell_type": "markdown",
   "metadata": {},
   "source": [
    "The confusion matrix for the above reuslts would be bit different as the value of the response variable is only 1. The below cell generates a confusion matrix type table for the above predictions"
   ]
  },
  {
   "cell_type": "code",
   "execution_count": 166,
   "metadata": {},
   "outputs": [
    {
     "data": {
      "text/plain": [
       "   \n",
       "      1\n",
       "  0 692\n",
       "  1 108"
      ]
     },
     "metadata": {},
     "output_type": "display_data"
    }
   ],
   "source": [
    "#Confusion matrix \n",
    "table(val_data_1$test_labels,val_data_1$pred_policy)"
   ]
  },
  {
   "cell_type": "markdown",
   "metadata": {},
   "source": [
    "The score generated for the logistic model is calculated and the value is 0.135. This doesn't represents the accuracy of the model. This the score that represent the fraction of customers that we predicted actually bought the caravan policy. We compare the values of our predicted customers with the provided test labels. Now we need to model your next type of model Linear Discriminant Analysis method. This is to see if the score can be increased if the predicted method is changed."
   ]
  },
  {
   "cell_type": "markdown",
   "metadata": {},
   "source": [
    "## Linear Discriminant Analysis\n",
    "\n",
    "Linear discriminant analysis is a generalisation of Fisher's linear discriminant method which is used in finding the linear combination of the features that characterizes two or more classes of the response variable. LDA attempts to express one dependent variable as a linear combination of independent variables. In LDA we directly  model the distribution of independent variables in each of the response classes. Then we use Bayes theorem to flip these around into estimates for the class probabilities. LDA assumes that the observations of each class are drawn from a multivariate gaussian distribution with a class specific mean and a covariance matrix that is common for all the classes.\n",
    "\n",
    "The parameters of the logistic model are surprisingly unstable when the classes of the response variable are well separated. For predicting the 800 most probable customers we can use lda and compare the results with the logistic regression. If the response variable in the given data set can be explained as a linear combination of the independent variables then LDA might perform better than the logistic regression. This is the reason why I choose to perform LDA for prediction."
   ]
  },
  {
   "cell_type": "code",
   "execution_count": 167,
   "metadata": {},
   "outputs": [
    {
     "data": {
      "text/plain": [
       "Call:\n",
       "lda(V86 ~ ., data = final_train_data)\n",
       "\n",
       "Prior probabilities of groups:\n",
       "         0          1 \n",
       "0.94022673 0.05977327 \n",
       "\n",
       "Group means:\n",
       "        V4      V10      V18       V41       V44      V47       V55      V59\n",
       "0 2.990318 6.149616 4.624954 0.2029594 0.7478992 2.859335 0.1899890 1.782974\n",
       "1 3.005747 6.715517 3.747126 0.1982759 1.1379310 4.718391 0.2701149 2.531609\n",
       "         V61        V83        V85\n",
       "0 0.01260504 0.02995981 0.01223968\n",
       "1 0.11781609 0.06034483 0.04597701\n",
       "\n",
       "Coefficients of linear discriminants:\n",
       "            LD1\n",
       "V4   0.13527659\n",
       "V10  0.13942160\n",
       "V18 -0.16765369\n",
       "V41 -0.19151048\n",
       "V44  0.22712666\n",
       "V47  0.20118820\n",
       "V55 -0.04719811\n",
       "V59  0.12282912\n",
       "V61  1.40302437\n",
       "V83  0.74611551\n",
       "V85  1.60048151"
      ]
     },
     "metadata": {},
     "output_type": "display_data"
    }
   ],
   "source": [
    "\n",
    "library(MASS)\n",
    "#LDA model for the training data\n",
    "lda_model <- lda(V86~., data = final_train_data)\n",
    "lda_model  #printing the model"
   ]
  },
  {
   "cell_type": "code",
   "execution_count": 168,
   "metadata": {
    "collapsed": true
   },
   "outputs": [],
   "source": [
    "new_test_data_lda <- cbind(test_data, test_labels)  #Adding the test labels to test data\n",
    "#Preicting using the lda model\n",
    "pred.lda = predict(lda_model, test_data)\n"
   ]
  },
  {
   "cell_type": "code",
   "execution_count": 175,
   "metadata": {},
   "outputs": [
    {
     "data": {
      "text/html": [
       "0.13875"
      ],
      "text/latex": [
       "0.13875"
      ],
      "text/markdown": [
       "0.13875"
      ],
      "text/plain": [
       "[1] 0.13875"
      ]
     },
     "metadata": {},
     "output_type": "display_data"
    }
   ],
   "source": [
    "#Appending the predicted probabilities\n",
    "new_test_data_lda$prob_pred = pred.lda$posterior[,2]\n",
    "\n",
    "#Sorting the data using the probabilities\n",
    "val_data = new_test_data_lda[order(new_test_data_lda$prob_pred,decreasing=TRUE),]\n",
    "#Selecting the first 800 customers\n",
    "val_data_1 = val_data[1:800,]\n",
    "#The response variable for the customers\n",
    "val_data_1$pred_policy = rep(\"1\",nrow(val_data_1))\n",
    "\n",
    "#validating the predictions\n",
    "nrow(val_data_1[val_data_1$test_labels == val_data_1$pred_policy,])/800\n"
   ]
  },
  {
   "cell_type": "code",
   "execution_count": 176,
   "metadata": {},
   "outputs": [
    {
     "data": {
      "text/plain": [
       "   \n",
       "      1\n",
       "  0 689\n",
       "  1 111"
      ]
     },
     "metadata": {},
     "output_type": "display_data"
    }
   ],
   "source": [
    "#Confusion matrix \n",
    "table(val_data_1$test_labels,val_data_1$pred_policy)"
   ]
  },
  {
   "cell_type": "markdown",
   "metadata": {},
   "source": [
    "The score value for the LDA is higher than the score of the logistic model. Even though the difference is small there was still an enhancement of the score value. The reason for this would be that LDA was able to learn a little better the linear combination of the independent variable with the response variable. Logistic also performed well as the target variable is binary and the response is linearly related to most of the independent variables. \n",
    "\n",
    "As expected by us the score value is increased when we apply LDA on the given data set. By what if we apply a different method that does the prediction that is similar to LDA, but overcomes the limitation of using a single covariance matrix for all the classes of the response. "
   ]
  },
  {
   "cell_type": "markdown",
   "metadata": {},
   "source": [
    "## Quadratic Discriminant Analysis\n",
    "\n",
    "QDA is an alternative approach that similar to LDA which assigns a different covariance matrix for each class of the response variable. QDA is a flexible classifier than LDA which can lead to improved prediction performance. As the number of training data points is also large we can apply QDA in this case.\n"
   ]
  },
  {
   "cell_type": "code",
   "execution_count": 170,
   "metadata": {},
   "outputs": [
    {
     "data": {
      "text/plain": [
       "Call:\n",
       "qda(V86 ~ ., data = final_train_data)\n",
       "\n",
       "Prior probabilities of groups:\n",
       "         0          1 \n",
       "0.94022673 0.05977327 \n",
       "\n",
       "Group means:\n",
       "        V4      V10      V18       V41       V44      V47       V55      V59\n",
       "0 2.990318 6.149616 4.624954 0.2029594 0.7478992 2.859335 0.1899890 1.782974\n",
       "1 3.005747 6.715517 3.747126 0.1982759 1.1379310 4.718391 0.2701149 2.531609\n",
       "         V61        V83        V85\n",
       "0 0.01260504 0.02995981 0.01223968\n",
       "1 0.11781609 0.06034483 0.04597701"
      ]
     },
     "metadata": {},
     "output_type": "display_data"
    }
   ],
   "source": [
    "#QDA model for the training data\n",
    "qda_model = qda(V86~., data = final_train_data)\n",
    "#QDA model\n",
    "qda_model"
   ]
  },
  {
   "cell_type": "code",
   "execution_count": 177,
   "metadata": {},
   "outputs": [
    {
     "data": {
      "text/html": [
       "0.1275"
      ],
      "text/latex": [
       "0.1275"
      ],
      "text/markdown": [
       "0.1275"
      ],
      "text/plain": [
       "[1] 0.1275"
      ]
     },
     "metadata": {},
     "output_type": "display_data"
    }
   ],
   "source": [
    "new_test_data_lda = cbind(test_data, test_labels)  #Adding the test labels to test data\n",
    "\n",
    "#Predictions with QDA model\n",
    "pred_qda = predict(qda_model, test_data)\n",
    "\n",
    "#Appending the predicted probabilities\n",
    "new_test_data_lda$prob_pred <- pred_qda$posterior[,2]\n",
    "\n",
    "#Sorting the data using the probabilities\n",
    "val_data = new_test_data_lda[order(new_test_data_lda$prob_pred,decreasing=TRUE),]\n",
    "#Selecting the first 800 customers\n",
    "val_data_1 = val_data[1:800,]\n",
    "#The response variable for the customers\n",
    "val_data_1$pred_policy = rep(\"1\",nrow(val_data_1))\n",
    "\n",
    "#validating the predictions\n",
    "nrow(val_data_1[val_data_1$test_labels == val_data_1$pred_policy,])/800\n"
   ]
  },
  {
   "cell_type": "code",
   "execution_count": 178,
   "metadata": {},
   "outputs": [
    {
     "data": {
      "text/plain": [
       "   \n",
       "      1\n",
       "  0 698\n",
       "  1 102"
      ]
     },
     "metadata": {},
     "output_type": "display_data"
    }
   ],
   "source": [
    "#Confusion matrix \n",
    "table(val_data_1$test_labels,val_data_1$pred_policy)"
   ]
  },
  {
   "cell_type": "markdown",
   "metadata": {},
   "source": [
    "Surprisingly the score for the QDA model is much lesser than the logistic and linear discriminant model. The reason for this could be the QDA model would have been fitted a quadratic model to the training data set which led to overfitting the model. Instead of using a line for classifying the datapoints the qda would have fit a complex structure while training."
   ]
  },
  {
   "cell_type": "markdown",
   "metadata": {},
   "source": [
    "## Model Comparison\n",
    "\n",
    "Among the three types of models that are built in the above cells has a clear difference in the score of the models. The linear discriminant model has performed the best with a score of 0.1387. QDA had the least score which was 0.1275. With the score as selection criteria we decide to use LDA to subset 800 customers from the test data set. "
   ]
  },
  {
   "cell_type": "code",
   "execution_count": 172,
   "metadata": {
    "collapsed": true
   },
   "outputs": [],
   "source": [
    "#Sorting the data using the probabilities\n",
    "val_data = new_test_data_lda[order(new_test_data_lda$prob_pred,decreasing=TRUE),]\n",
    "#Selecting the first 800 customers\n",
    "val_data_1 = val_data[1:800,]\n",
    "#The response variable for the customers\n",
    "val_data_1$pred_policy = rep(\"1\",nrow(val_data_1))\n"
   ]
  },
  {
   "cell_type": "code",
   "execution_count": 173,
   "metadata": {},
   "outputs": [
    {
     "data": {
      "text/html": [
       "<table>\n",
       "<thead><tr><th></th><th scope=col>V1</th><th scope=col>V2</th><th scope=col>V3</th><th scope=col>V4</th><th scope=col>V5</th><th scope=col>V6</th><th scope=col>V7</th><th scope=col>V8</th><th scope=col>V9</th><th scope=col>V10</th><th scope=col>...</th><th scope=col>V79</th><th scope=col>V80</th><th scope=col>V81</th><th scope=col>V82</th><th scope=col>V83</th><th scope=col>V84</th><th scope=col>V85</th><th scope=col>test_labels</th><th scope=col>prob_pred</th><th scope=col>pred_policy</th></tr></thead>\n",
       "<tbody>\n",
       "\t<tr><th scope=row>292</th><td>33 </td><td>1  </td><td>2  </td><td>4  </td><td>8  </td><td>0  </td><td>2  </td><td>0  </td><td>7  </td><td>9  </td><td>...</td><td>0  </td><td>1  </td><td>0  </td><td>1  </td><td>0  </td><td>0  </td><td>0  </td><td>0  </td><td>1  </td><td>1  </td></tr>\n",
       "\t<tr><th scope=row>576</th><td> 8 </td><td>1  </td><td>2  </td><td>4  </td><td>2  </td><td>2  </td><td>2  </td><td>2  </td><td>5  </td><td>7  </td><td>...</td><td>0  </td><td>1  </td><td>0  </td><td>2  </td><td>0  </td><td>0  </td><td>0  </td><td>1  </td><td>1  </td><td>1  </td></tr>\n",
       "\t<tr><th scope=row>790</th><td>24 </td><td>1  </td><td>2  </td><td>3  </td><td>5  </td><td>1  </td><td>5  </td><td>1  </td><td>3  </td><td>4  </td><td>...</td><td>0  </td><td>1  </td><td>0  </td><td>1  </td><td>0  </td><td>0  </td><td>0  </td><td>0  </td><td>1  </td><td>1  </td></tr>\n",
       "\t<tr><th scope=row>1826</th><td>23 </td><td>1  </td><td>2  </td><td>2  </td><td>5  </td><td>1  </td><td>2  </td><td>2  </td><td>5  </td><td>5  </td><td>...</td><td>0  </td><td>1  </td><td>0  </td><td>0  </td><td>4  </td><td>0  </td><td>0  </td><td>0  </td><td>1  </td><td>1  </td></tr>\n",
       "\t<tr><th scope=row>1996</th><td>13 </td><td>2  </td><td>3  </td><td>2  </td><td>3  </td><td>1  </td><td>2  </td><td>2  </td><td>5  </td><td>7  </td><td>...</td><td>0  </td><td>1  </td><td>0  </td><td>1  </td><td>0  </td><td>0  </td><td>0  </td><td>0  </td><td>1  </td><td>1  </td></tr>\n",
       "\t<tr><th scope=row>2622</th><td>12 </td><td>1  </td><td>3  </td><td>2  </td><td>3  </td><td>0  </td><td>5  </td><td>0  </td><td>4  </td><td>5  </td><td>...</td><td>0  </td><td>1  </td><td>0  </td><td>1  </td><td>0  </td><td>0  </td><td>0  </td><td>1  </td><td>1  </td><td>1  </td></tr>\n",
       "</tbody>\n",
       "</table>\n"
      ],
      "text/latex": [
       "\\begin{tabular}{r|llllllllllllllllllllllllllllllllllllllllllllllllllllllllllllllllllllllllllllllllllllllll}\n",
       "  & V1 & V2 & V3 & V4 & V5 & V6 & V7 & V8 & V9 & V10 & ... & V79 & V80 & V81 & V82 & V83 & V84 & V85 & test\\_labels & prob\\_pred & pred\\_policy\\\\\n",
       "\\hline\n",
       "\t292 & 33  & 1   & 2   & 4   & 8   & 0   & 2   & 0   & 7   & 9   & ... & 0   & 1   & 0   & 1   & 0   & 0   & 0   & 0   & 1   & 1  \\\\\n",
       "\t576 &  8  & 1   & 2   & 4   & 2   & 2   & 2   & 2   & 5   & 7   & ... & 0   & 1   & 0   & 2   & 0   & 0   & 0   & 1   & 1   & 1  \\\\\n",
       "\t790 & 24  & 1   & 2   & 3   & 5   & 1   & 5   & 1   & 3   & 4   & ... & 0   & 1   & 0   & 1   & 0   & 0   & 0   & 0   & 1   & 1  \\\\\n",
       "\t1826 & 23  & 1   & 2   & 2   & 5   & 1   & 2   & 2   & 5   & 5   & ... & 0   & 1   & 0   & 0   & 4   & 0   & 0   & 0   & 1   & 1  \\\\\n",
       "\t1996 & 13  & 2   & 3   & 2   & 3   & 1   & 2   & 2   & 5   & 7   & ... & 0   & 1   & 0   & 1   & 0   & 0   & 0   & 0   & 1   & 1  \\\\\n",
       "\t2622 & 12  & 1   & 3   & 2   & 3   & 0   & 5   & 0   & 4   & 5   & ... & 0   & 1   & 0   & 1   & 0   & 0   & 0   & 1   & 1   & 1  \\\\\n",
       "\\end{tabular}\n"
      ],
      "text/markdown": [
       "\n",
       "| <!--/--> | V1 | V2 | V3 | V4 | V5 | V6 | V7 | V8 | V9 | V10 | ... | V79 | V80 | V81 | V82 | V83 | V84 | V85 | test_labels | prob_pred | pred_policy | \n",
       "|---|---|---|---|---|---|\n",
       "| 292 | 33  | 1   | 2   | 4   | 8   | 0   | 2   | 0   | 7   | 9   | ... | 0   | 1   | 0   | 1   | 0   | 0   | 0   | 0   | 1   | 1   | \n",
       "| 576 |  8  | 1   | 2   | 4   | 2   | 2   | 2   | 2   | 5   | 7   | ... | 0   | 1   | 0   | 2   | 0   | 0   | 0   | 1   | 1   | 1   | \n",
       "| 790 | 24  | 1   | 2   | 3   | 5   | 1   | 5   | 1   | 3   | 4   | ... | 0   | 1   | 0   | 1   | 0   | 0   | 0   | 0   | 1   | 1   | \n",
       "| 1826 | 23  | 1   | 2   | 2   | 5   | 1   | 2   | 2   | 5   | 5   | ... | 0   | 1   | 0   | 0   | 4   | 0   | 0   | 0   | 1   | 1   | \n",
       "| 1996 | 13  | 2   | 3   | 2   | 3   | 1   | 2   | 2   | 5   | 7   | ... | 0   | 1   | 0   | 1   | 0   | 0   | 0   | 0   | 1   | 1   | \n",
       "| 2622 | 12  | 1   | 3   | 2   | 3   | 0   | 5   | 0   | 4   | 5   | ... | 0   | 1   | 0   | 1   | 0   | 0   | 0   | 1   | 1   | 1   | \n",
       "\n",
       "\n"
      ],
      "text/plain": [
       "     V1 V2 V3 V4 V5 V6 V7 V8 V9 V10 ... V79 V80 V81 V82 V83 V84 V85 test_labels\n",
       "292  33 1  2  4  8  0  2  0  7  9   ... 0   1   0   1   0   0   0   0          \n",
       "576   8 1  2  4  2  2  2  2  5  7   ... 0   1   0   2   0   0   0   1          \n",
       "790  24 1  2  3  5  1  5  1  3  4   ... 0   1   0   1   0   0   0   0          \n",
       "1826 23 1  2  2  5  1  2  2  5  5   ... 0   1   0   0   4   0   0   0          \n",
       "1996 13 2  3  2  3  1  2  2  5  7   ... 0   1   0   1   0   0   0   0          \n",
       "2622 12 1  3  2  3  0  5  0  4  5   ... 0   1   0   1   0   0   0   1          \n",
       "     prob_pred pred_policy\n",
       "292  1         1          \n",
       "576  1         1          \n",
       "790  1         1          \n",
       "1826 1         1          \n",
       "1996 1         1          \n",
       "2622 1         1          "
      ]
     },
     "metadata": {},
     "output_type": "display_data"
    }
   ],
   "source": [
    "head(val_data_1)  #Printing 5 rows"
   ]
  },
  {
   "cell_type": "markdown",
   "metadata": {},
   "source": [
    "## Variable Identification and Explanation\n",
    "\n",
    "In this section we understand how the significant variables that we selected for building model are influencing the response variable. "
   ]
  },
  {
   "cell_type": "markdown",
   "metadata": {},
   "source": [
    "#### Contribution to Car Policies "
   ]
  },
  {
   "cell_type": "markdown",
   "metadata": {},
   "source": [
    "Among all the selected variables the most influencing feature is the contribution to car policies. This can be seen in the stepwise regression result that we have developed in the above sections. The p-value can be used as a parameter to decide which is the most significant feature. The relationship is roughly linear between this feature and the target variable. It is evident that if a customer spends more on car policies then there is a high chance of customer being an owner of caravan policy. We can say that a customer with a caravan policy would likely be having insurance on more than one car. The chance of a customer buying a caravan policy when he doesn't have atleast one policy is extremely low. This can be a good feature to focus on when marketing the caravan policy to the customers. \n"
   ]
  },
  {
   "cell_type": "markdown",
   "metadata": {},
   "source": [
    "#### Level of Education and Income\n",
    "Education level is the next feature that is influencing the target variable. The relationship might not be direct with the purchase of a caravan policy. Income of a customer might be dependent on the education level of them. A customer with a low education level is less likely to have a high income. As the income is not high the probability of the customer buying a caravan policy is very less. A very important factor that can be considered while selecting customers for advertising."
   ]
  },
  {
   "cell_type": "markdown",
   "metadata": {},
   "source": [
    "#### Contribution to Fire and third party insurance Policies"
   ]
  },
  {
   "cell_type": "markdown",
   "metadata": {},
   "source": [
    "Next feature that have a significant effect on the customers decision of buying a caravan policy is the contribution that they make on fire policies and third party insurance policies. The fact that the customer is willing to spend on fire policies and third party insurance policies tells us that the customer might belong to the upper middle class family target population. We can assume that a customer might be willing to buy a caravan policy when the can afford fire and third party insurance policies. "
   ]
  },
  {
   "cell_type": "markdown",
   "metadata": {},
   "source": [
    "#### Contribution to Boat Policy\n",
    "\n",
    "This was an interesting feature which helps to understand the customers choice of buying caravan policy. The plot of this variable with the target variable shows that if a customer doesn't contribute to boat policy, then their probability of buying a caravan policy is high. In general the chance of owning a boat and a caravan by the same customer is highly unlikely. "
   ]
  },
  {
   "cell_type": "markdown",
   "metadata": {},
   "source": [
    "#### Age\n",
    "\n",
    "The next influential feature is the age group of the customers. Customers belonging to the age group 20-30 and the customers who are having a age above 60 years are having a less likely to buy a caravan policy. But the customers in the age groups 30-40 and 40-50 are having a high probability of buying a caravan policy. This is understandable as the customers in there middle ages would be more adventurous and would own a caravan if they are frequent travellers. Customers having age below 25 years and above 60 years wouldn't be much interested in purchasing a caravan even if they like travelling."
   ]
  },
  {
   "cell_type": "markdown",
   "metadata": {},
   "source": [
    "#### Married\n",
    "\n",
    "The married column in the dataset is a socio demographic feature that is same for all the customers that belong to the same zip code. If a customer belongs to a neighbourhood where the number of married is more then he is more likely to purchase a caravan policy."
   ]
  },
  {
   "cell_type": "markdown",
   "metadata": {},
   "source": [
    "#### Marketing Strategies\n",
    "\n",
    "We can develop some marketing strategies to target customers who would buy a caravan policy using the above variables which are influencing the target variable. Out of the 800 customers that were selected we can first focus on marketing to the customers who contibute to car policies, fire policies or third party insurance policies. If a customer contributs to all of them then marketing to such a customer would result in a purchase. The marketing can be targeted to the customer who doesn't have low education level, belongs to upper middle class family in there mid 30's, living in a neighbourhood where most of the customers are married. By implementing these strtagies into the business modelling the caravan policy sellers are having a high chance of a conversion."
   ]
  },
  {
   "cell_type": "markdown",
   "metadata": {},
   "source": [
    "The policy sellers should not worry about the customers who don't possess any type of product ownership as they are likely to have a low education level with less income. The marketers can focus less on marketing to customers who are elder than 60 years as there would a less chance of them buying a caravan policy."
   ]
  },
  {
   "cell_type": "markdown",
   "metadata": {},
   "source": [
    "## Conclusion\n",
    "\n",
    "* This assessment foucses on how to deal with real world data science problem and helped me in understanding the steps to be followed for a data science project.\n",
    "* The feature selection methods were the most important and interesting part of model development. The selection of features for the final model would influence the performance of models.\n",
    "* Exploring the relationship between the independent variables with the target variable is the vital step in understanding the significance of the feature.\n",
    "* Developing multiple models were essential in this problem as the selection of the model also plays an important role in selecting the best 800 customers as different models give different results.\n",
    "* Finally developing the marketing strtagies which can be understood by a person who doesn't have any technical background was the output that is expected from the entire data analysis that is performed in the task."
   ]
  },
  {
   "cell_type": "code",
   "execution_count": null,
   "metadata": {
    "collapsed": true
   },
   "outputs": [],
   "source": []
  }
 ],
 "metadata": {
  "kernelspec": {
   "display_name": "R",
   "language": "R",
   "name": "ir"
  },
  "language_info": {
   "codemirror_mode": "r",
   "file_extension": ".r",
   "mimetype": "text/x-r-source",
   "name": "R",
   "pygments_lexer": "r",
   "version": "3.4.3"
  },
  "widgets": {
   "application/vnd.jupyter.widget-state+json": {
    "state": {},
    "version_major": 2,
    "version_minor": 0
   }
  }
 },
 "nbformat": 4,
 "nbformat_minor": 2
}
